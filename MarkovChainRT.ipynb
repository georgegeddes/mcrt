{
 "metadata": {
  "name": "",
  "signature": ""
 },
 "nbformat": 3,
 "nbformat_minor": 0,
 "worksheets": [
  {
   "cells": [
    {
     "cell_type": "code",
     "collapsed": false,
     "input": [
      "%matplotlib inline\n",
      "import matplotlib.pyplot as plt\n",
      "import numpy as np\n",
      "from __future__ import division"
     ],
     "language": "python",
     "metadata": {},
     "outputs": []
    },
    {
     "cell_type": "code",
     "collapsed": false,
     "input": [
      "%%latex\n",
      "There are remarkably few publications about Markov chain approaches to radiative transfer in atmospheric physics [cite Esposito 1978 and Waldenfells 2011]. \n",
      "These methods are used in astronomy and astrophysics in conjucntion with Monte Carlo methods.\n",
      "This type of method is ideal for modeling resonant scattering processes.\n",
      "The journey of a photon through a scattering medium is a stochastic process in which the probability of scattering from the current state to another is determined by the macrostate of the scattering medium."
     ],
     "language": "python",
     "metadata": {},
     "outputs": []
    },
    {
     "cell_type": "code",
     "collapsed": false,
     "input": [
      "%%latex\n",
      "Following [cite Esposito 1978], the Markov chain approach allows us to calculate the steady-state behavior of the scattered \n",
      "emission from a matrix of probabilities for a single scattering event.\n",
      "One way to make sense of this is to notice that the light observed at any point in the scattering medium is composed of \n",
      "unscattered source photons, \n",
      "photons that have scattered once before arriving at the detector, photons that have scattered twice, and so on.\n",
      "This means that if $Q$ maps from the source profile to singly-scattered profile, then the multiple scattering matrix, $M$, is a \n",
      "geometric series in $Q$.\n",
      "\n",
      "\\begin{equation}\n",
      "M = 1 + Q + Q^2 + Q^3 + \\cdots\n",
      "\\end{equation}\n",
      "\n",
      "If the series converges, then the expression for $M$ is simply, $M=(1-Q)^{-1}$."
     ],
     "language": "python",
     "metadata": {},
     "outputs": []
    },
    {
     "cell_type": "code",
     "collapsed": false,
     "input": [
      "%%latex\n",
      "For simplicity let us assume a plane-parallel atmosphere divided into layers of varying thicknesses, $\\delta$. \n",
      "A photon which has been emitted from the layer at altitude $z_i$ traveling in a direction $(\\theta_i,\\phi_i)$ will\n",
      "be removed from that state (either absorbed ro scattered) with probability $P_{e,i+1} = (1-e^{-\\tau_{(i+1)}})$, with $\\Delta\\tau = n_{i+1}(\\sum_\\text{species}\\sigma_\\text{sp.})\\frac{\\delta_{i+1}}{\\mu_i}$. "
     ],
     "language": "python",
     "metadata": {},
     "outputs": []
    },
    {
     "cell_type": "markdown",
     "metadata": {},
     "source": [
      "(Technically the \"+1\" is an abuse of the notation here since I haven't specified how the states are ordered and so the next layer probably doesn't have the next index in thhe single-index scheme. whatever, idc)"
     ]
    },
    {
     "cell_type": "code",
     "collapsed": false,
     "input": [
      "%%latex\n",
      "In the $k^\\text{th}$ layer, a photon in the state $i$ will end up in a state $j$ with probability $P_{s,k} = (1-e^{-\\tau_{s,k}})$."
     ],
     "language": "python",
     "metadata": {},
     "outputs": []
    },
    {
     "cell_type": "markdown",
     "metadata": {},
     "source": [
      "Putting these two together, the transition probability from state $i$ to state $j$ is given by :"
     ]
    },
    {
     "cell_type": "code",
     "collapsed": false,
     "input": [
      "%%latex \n",
      "$$\n",
      "\n",
      "P_{(i\\rightarrow j)} = \\left( \\prod_{z_k \\in [z_i,z_j), \\hat{e}_k = \\hat{e}_i} (1-P_{e,k}) \\right) P_s (z_j,\\hat{e}_i,\\hat{e}_j)\n",
      "\n",
      "$$"
     ],
     "language": "python",
     "metadata": {},
     "outputs": []
    },
    {
     "cell_type": "code",
     "collapsed": false,
     "input": [
      "%%latex \n",
      "$$\n",
      "\n",
      "\\mathrm{where} \\; P_s ( z_j, \\hat{e}_i, \\hat{e}_j ) = \\left( 1 - e^{ -n(z_j) \\sigma_s \\delta_j } \\right) p( \\hat{e}_i, \\hat{e}_j ).\n",
      "\n",
      "$$"
     ],
     "language": "python",
     "metadata": {},
     "outputs": []
    },
    {
     "cell_type": "code",
     "collapsed": false,
     "input": [
      "%%latex\n",
      "$$\n",
      "\n",
      "\\mathrm{thus,} \\; P_{(i\\rightarrow j)} = \\exp\\left[ -\\sum_{z_k \\in [z_i,z_j), \\hat{e}_k = \\hat{e}_i} \\tau_{e,k} \\right] \n",
      "                                         \\left( 1 - e^{ -\\tau_{s,j} } \\right) p( \\hat{e}_i, \\hat{e}_j )\n",
      "\n",
      "$$"
     ],
     "language": "python",
     "metadata": {},
     "outputs": []
    },
    {
     "cell_type": "code",
     "collapsed": false,
     "input": [
      "%%latex \n",
      "$$\n",
      "\n",
      "\\mathrm{also,} \\; P_{(i\\rightarrow i)} = 0.\n",
      "\n",
      "$$"
     ],
     "language": "python",
     "metadata": {},
     "outputs": []
    },
    {
     "cell_type": "code",
     "collapsed": false,
     "input": [
      "z = np.logspace(2,3, num=100, endpoint=True)\n",
      "\n",
      "zj, zi = np.meshgrid(z,z, sparse=True)\n",
      "\n",
      "density  = lambda x : np.exp(-x/200.)"
     ],
     "language": "python",
     "metadata": {},
     "outputs": []
    },
    {
     "cell_type": "code",
     "collapsed": false,
     "input": [
      "def physical_depth( z ):\n",
      "    return z[1:] - z[:-1]\n",
      "\n",
      "def optical_depth( densities, cross_sections, phys_depth ):\n",
      "    \"\"\"Calculate optical depths of layers.\n",
      "    Densities must be an array with the density of each species in the columns.\"\"\"\n",
      "    \n",
      "    return np.sum( densities*cross_sections, axis=1 ) * phys_depth\n",
      "\n",
      "def isotropic_phase_function( theta1, theta2 ):\n",
      "    return 2*np.pi*( np.cos( theta1 ) - np.cos( theta2 ) )"
     ],
     "language": "python",
     "metadata": {},
     "outputs": []
    },
    {
     "cell_type": "code",
     "collapsed": false,
     "input": [
      "densities = np.array([density(z), 3*density(z), density(2*z)])\n"
     ],
     "language": "python",
     "metadata": {},
     "outputs": []
    },
    {
     "cell_type": "code",
     "collapsed": false,
     "input": [
      "#some testing for the next cell\n",
      "b=np.arange(5)\n",
      "a=np.arange(3)\n",
      "\n",
      "am, bm = np.meshgrid(a,b)\n",
      "\n",
      "np.sum(bm*a, axis=1)"
     ],
     "language": "python",
     "metadata": {},
     "outputs": []
    },
    {
     "cell_type": "code",
     "collapsed": false,
     "input": [
      "avg_density = lambda z: (density(z[1:])+density(z[:-1]))/2\n",
      "avg_den = np.array([avg_density(z), 2*avg_density(z), avg_density(2*z) ]).T\n",
      "avg_den;"
     ],
     "language": "python",
     "metadata": {},
     "outputs": []
    },
    {
     "cell_type": "code",
     "collapsed": false,
     "input": [
      "cs = np.arange(3,6)"
     ],
     "language": "python",
     "metadata": {},
     "outputs": []
    },
    {
     "cell_type": "code",
     "collapsed": false,
     "input": [
      "od = optical_depth( avg_den, cs, physical_depth(z) )\n",
      "od;"
     ],
     "language": "python",
     "metadata": {},
     "outputs": []
    },
    {
     "cell_type": "code",
     "collapsed": false,
     "input": [
      "scs = 1./cs\n",
      "scs;"
     ],
     "language": "python",
     "metadata": {},
     "outputs": []
    },
    {
     "cell_type": "code",
     "collapsed": false,
     "input": [
      "acs = cs*100\n",
      "all_cs = np.hstack([acs,scs])\n",
      "all_cs;"
     ],
     "language": "python",
     "metadata": {},
     "outputs": []
    },
    {
     "cell_type": "code",
     "collapsed": false,
     "input": [
      "ods = optical_depth( avg_den, scs, physical_depth(z) )\n",
      "odt = optical_depth( np.hstack([avg_den, avg_den]), all_cs, physical_depth(z) )\n",
      "ods, odt ;"
     ],
     "language": "python",
     "metadata": {},
     "outputs": []
    },
    {
     "cell_type": "code",
     "collapsed": false,
     "input": [
      "def single_scatter( neutral_densities, neutral_cross_sections, scatter_densities, scatter_cross_sections, phys_depth ):\n",
      "    \"\"\"Calculate the single-scattering transition matrix.\"\"\"\n",
      "    ods = optical_depth( scatter_densities, scatter_cross_sections, phys_depth )\n",
      "    odt = optical_depth( \n",
      "                         np.hstack( [ neutral_densities, scatter_densities ] ), \n",
      "                         np.hstack( [ neutral_cross_sections, scatter_cross_sections ] ), \n",
      "                         phys_depth\n",
      "                       )\n",
      "    odsj = np.meshgrid( ods, ods )[1]\n",
      "    odti, odtj = np.meshgrid( np.cumsum(odt), np.cumsum(odt) )\n",
      "    return np.exp( -np.abs( odtj - odti ) ) * ( 1 - np.exp( -np.abs( odsj ) ) ) * ( 1 ) #phase function in last set of parens\n",
      "#^^^ use meshgrid instead of transpose."
     ],
     "language": "python",
     "metadata": {},
     "outputs": []
    },
    {
     "cell_type": "code",
     "collapsed": false,
     "input": [
      "M = single_scatter( avg_den, acs, avg_den, scs, physical_depth(z) )"
     ],
     "language": "python",
     "metadata": {},
     "outputs": []
    },
    {
     "cell_type": "code",
     "collapsed": false,
     "input": [
      "import matplotlib.cm as cm\n",
      "plt.imshow(np.linalg.inv(np.eye(M.shape[0])-M), cmap=cm.cubehelix)\n",
      "plt.colorbar();"
     ],
     "language": "python",
     "metadata": {},
     "outputs": []
    },
    {
     "cell_type": "markdown",
     "metadata": {},
     "source": [
      "Try some actual data?"
     ]
    },
    {
     "cell_type": "code",
     "collapsed": false,
     "input": [
      "import pyauric\n",
      "#import objects as rt"
     ],
     "language": "python",
     "metadata": {},
     "outputs": []
    },
    {
     "cell_type": "code",
     "collapsed": false,
     "input": [
      "auric = pyauric.AURICManager('.')\n",
      "\n",
      "edp = auric.retrieve( 'inputs/ionos.dat', features=['[e-]'] )\n",
      "neutrals = auric.retrieve( 'inputs/atmos.dat', features=['Tn (K)','[O]','[N2]','[O2]'] )"
     ],
     "language": "python",
     "metadata": {},
     "outputs": []
    },
    {
     "cell_type": "code",
     "collapsed": false,
     "input": [
      "!!grep \"83[234] A .initial.\" inputs/dayglo.ver"
     ],
     "language": "python",
     "metadata": {},
     "outputs": []
    },
    {
     "cell_type": "code",
     "collapsed": false,
     "input": [
      "thin_lines = _ \n",
      "source = auric.retrieve( 'inputs/dayglo.ver', features=thin_lines )"
     ],
     "language": "python",
     "metadata": {},
     "outputs": []
    },
    {
     "cell_type": "code",
     "collapsed": false,
     "input": [
      "z = neutrals['ALT'][::-1]\n",
      "thicknesses = physical_depth(z)\n",
      "nd = np.vstack( [ neutrals['[O]'][-1:0:-1], neutrals['[N2]'][-1:0:-1], neutrals['[O2]'][-1:0:-1] ] ).T\n",
      "cd = np.array( edp['[e-]'][-1:0:-1], ndmin=2 ).T"
     ],
     "language": "python",
     "metadata": {},
     "outputs": []
    },
    {
     "cell_type": "code",
     "collapsed": false,
     "input": [
      "!!grep -A 16 \"ifdef.*VICKERS\" ../../../jsv_rt_cython/RT/cross_sec.h"
     ],
     "language": "python",
     "metadata": {},
     "outputs": []
    },
    {
     "cell_type": "markdown",
     "metadata": {},
     "source": [
      "barn = $10^{\u221228}$ m$^2$ $\\Rightarrow$ Mbarn = $10^{-18}$ cm$^2$"
     ]
    },
    {
     "cell_type": "code",
     "collapsed": false,
     "input": [
      "acs = np.array([3.9, 10.44, 10.10], ndmin=2)*1e-18\n",
      "f834 = 0.1371"
     ],
     "language": "python",
     "metadata": {},
     "outputs": []
    },
    {
     "cell_type": "markdown",
     "metadata": {},
     "source": [
      "Scattering cross section is temperature-dependent. \n",
      "\n",
      "$$\n",
      "\\sigma_0 = {\\lambda \\sqrt{ M_{O}  \\over 2\\pi k_B T_\\text{ref}} }{\\pi e^2 f_\\text{osc} \\over m_e c}\\\\\n",
      "\\sigma(T) = \\sigma_0\\sqrt{T_\\text{ref} \\over T}\n",
      "$$"
     ]
    },
    {
     "cell_type": "markdown",
     "metadata": {},
     "source": [
      "Woflram Alpha -> $m_O = 1.49033\\times10^{10}~\\text{eV/c}^2 $"
     ]
    },
    {
     "cell_type": "code",
     "collapsed": false,
     "input": [
      "wavelengths = !grep \"LAM83[234]\" ../jsv_rt_cython/RT/cross_sec.h\n",
      "wavelengths = map( lambda s: s.split('(')[-1][:-1], wavelengths )\n",
      "wavelengths"
     ],
     "language": "python",
     "metadata": {},
     "outputs": []
    },
    {
     "cell_type": "code",
     "collapsed": false,
     "input": [
      "sigma0 = 2.278e-8#2 #cm^2 \n",
      "#http://www.wolframalpha.com/input/?i=%28834.466e-8+cm%29*sqrt%28Oxygen+atomic+mass+%2F%28+boltzmann+constant\n",
      "#+*+1000+K+*+2+*+pi+%29+%29\n",
      "#*pi*hbar*c*4*pi*0.1371%2F%28127*electron+mass*c%29+"
     ],
     "language": "python",
     "metadata": {},
     "outputs": []
    },
    {
     "cell_type": "code",
     "collapsed": false,
     "input": [
      "scs = np.array( sigma0*np.sqrt(1000/neutrals['Tn (K)'][::-1]), ndmin=2 )\n",
      "avg_scs = (scs[0,1:] + scs[0,:-1])/2"
     ],
     "language": "python",
     "metadata": {},
     "outputs": []
    },
    {
     "cell_type": "code",
     "collapsed": false,
     "input": [
      "Ms = single_scatter( nd, np.vstack([acs]*len(thicknesses)), cd, avg_scs[:,None], thicknesses )\n",
      "Mm = np.linalg.inv((np.eye(len(thicknesses))-Ms))"
     ],
     "language": "python",
     "metadata": {},
     "outputs": []
    },
    {
     "cell_type": "markdown",
     "metadata": {},
     "source": [
      "neutral cross sections need to be cast into the same shape as the temp-dependent scattering cs."
     ]
    },
    {
     "cell_type": "markdown",
     "metadata": {},
     "source": [
      "All of the axes need to be very consistent for this to work."
     ]
    },
    {
     "cell_type": "code",
     "collapsed": false,
     "input": [
      "fig2=plt.figure()\n",
      "ax2=fig2.gca()\n",
      "img2 = ax2.imshow( Ms, cmap=cm.cubehelix)\n",
      "cbar2 = plt.colorbar(img2, ax=ax2)\n",
      "ax2.set_title('single scattering matrix');\n",
      "\n",
      "fig=plt.figure()\n",
      "ax=fig.gca()\n",
      "img = ax.imshow( Mm, cmap=cm.cubehelix)\n",
      "cbar = plt.colorbar(img, ax=ax)\n",
      "ax.set_title('multiple scattering matrix');"
     ],
     "language": "python",
     "metadata": {},
     "outputs": []
    },
    {
     "cell_type": "code",
     "collapsed": false,
     "input": [
      "S0 = np.sum([source[k][::-1] for k in thin_lines if \"834\" in k ], axis=0)"
     ],
     "language": "python",
     "metadata": {},
     "outputs": []
    },
    {
     "cell_type": "code",
     "collapsed": false,
     "input": [
      "SF = np.dot(Mm, (S0[1:,None]+S0[:-1,None])/2 )"
     ],
     "language": "python",
     "metadata": {},
     "outputs": []
    },
    {
     "cell_type": "code",
     "collapsed": false,
     "input": [
      "fig = plt.figure()\n",
      "ax = fig.add_subplot(111)\n",
      "\n",
      "ax.plot( z[:-1], SF )\n",
      "ax.plot( z, S0 )\n",
      "ax.set_yscale('log')\n",
      "ax.set_ylim((1e-2,1e2));"
     ],
     "language": "python",
     "metadata": {},
     "outputs": []
    },
    {
     "cell_type": "heading",
     "level": 2,
     "metadata": {},
     "source": [
      "Well, how did I do?"
     ]
    },
    {
     "cell_type": "markdown",
     "metadata": {},
     "source": [
      "This is way off of AURIC. There is wayyy too much intensity at high altitudes. The first possible reason that jumps to mind is that I have payed absolutely no respect to the way I interpolated and/or averaged the data. Small-ish discrepancies in the way this is done could be responsible for big differences. Still, not too bad for an afternoon (and a decent chunk of a night)."
     ]
    },
    {
     "cell_type": "heading",
     "level": 2,
     "metadata": {},
     "source": [
      "Is is fast?"
     ]
    },
    {
     "cell_type": "code",
     "collapsed": false,
     "input": [
      "from time import time\n",
      "tic=time()\n",
      "MTEST = single_scatter( nd, np.vstack([acs]*len(thicknesses)), cd, avg_scs[:,None], thicknesses )\n",
      "M2 = (np.linalg.inv((np.eye( MTEST.shape[0] ) - MTEST )))\n",
      "SF2 = np.asmatrix(M2) * np.asmatrix((S0[1:,None]+S0[:-1,None])/2)\n",
      "toc=time()\n",
      "print '{:>1.3f} ms'.format((toc-tic)*1000) "
     ],
     "language": "python",
     "metadata": {},
     "outputs": []
    },
    {
     "cell_type": "heading",
     "level": 1,
     "metadata": {},
     "source": [
      "O_O"
     ]
    },
    {
     "cell_type": "code",
     "collapsed": false,
     "input": [
      "%timeit blah = auric.retrieve('inputs/dayglo.ver',features=thin_lines)"
     ],
     "language": "python",
     "metadata": {},
     "outputs": []
    },
    {
     "cell_type": "markdown",
     "metadata": {},
     "source": [
      "So, loading in data is the most time-consuming part. That makes sense. Still, this has potential to be very fast. 3ms is nothing compared to the ~200 ms for `rt.VickersManager.runRT`."
     ]
    },
    {
     "cell_type": "heading",
     "level": 2,
     "metadata": {},
     "source": [
      "Can it be faster?"
     ]
    },
    {
     "cell_type": "markdown",
     "metadata": {},
     "source": [
      "speed up by only re-calculating scatter depths each time? This should be possible..."
     ]
    },
    {
     "cell_type": "heading",
     "level": 1,
     "metadata": {},
     "source": [
      "Incorporating angular variation of path length"
     ]
    },
    {
     "cell_type": "markdown",
     "metadata": {},
     "source": [
      "I can keep the nice, simple matrix multiplication by stacking altitude profiles for each angle. However, this makes it a bit harder to do some of the other stuff? I think? Maybe that's not true. It's prbably not."
     ]
    },
    {
     "cell_type": "markdown",
     "metadata": {},
     "source": [
      "Set up some angles (actually $\\mu=\\cos\\theta$):"
     ]
    },
    {
     "cell_type": "code",
     "collapsed": false,
     "input": [
      "mu_bounds = np.linspace( -1, 1, 3 )\n",
      "mu = ( mu_bounds[1:] + mu_bounds[:-1] )/2\n",
      "mu"
     ],
     "language": "python",
     "metadata": {},
     "outputs": []
    },
    {
     "cell_type": "markdown",
     "metadata": {},
     "source": [
      "Also, let's cut down on z for the time being to make ouput manageable"
     ]
    },
    {
     "cell_type": "code",
     "collapsed": false,
     "input": [
      "z_bounds = np.logspace( 2, 3, 10 )\n",
      "z = ( z_bounds[1:] + z_bounds[:-1] )/2 #maybe these should be logarithmic midpoints instead.\n",
      "z"
     ],
     "language": "python",
     "metadata": {},
     "outputs": []
    },
    {
     "cell_type": "markdown",
     "metadata": {},
     "source": [
      "Things that were just functions of altitude before now become full functions of state by stacking up altitude vectors for each angle. Just for show, we can make the 'state' vector, but it's likely not useful."
     ]
    },
    {
     "cell_type": "code",
     "collapsed": false,
     "input": [
      "Z, MU = map( np.hstack, np.meshgrid( z, mu ) ) #this works prefectly, but is it readable?\n",
      "ZB,MB = map( np.hstack, np.meshgrid( z_bounds, mu_bounds ) )\n",
      "Z, MU"
     ],
     "language": "python",
     "metadata": {},
     "outputs": []
    },
    {
     "cell_type": "markdown",
     "metadata": {},
     "source": [
      "Now the issue is... how do I vectorize things like `physical_depths` with this scheme?\n",
      "\n",
      "* The answer -- use spearate axes and a meshgrid type setup to contsrtuct the array and then do `map(hstack,())` to make it a matrix.\n",
      "\n",
      "Does this make sense?"
     ]
    },
    {
     "cell_type": "code",
     "collapsed": false,
     "input": [
      "MU, Z = np.meshgrid( mu, z ) \n",
      "MB, ZB= np.meshgrid( mu_bounds, z_bounds ) \n",
      "# mat = np.hstack(Z*MU)\n",
      "# mat\n",
      "#np.meshgrid(MU, Z)\n",
      "MU, Z, D, PD"
     ],
     "language": "python",
     "metadata": {},
     "outputs": []
    },
    {
     "cell_type": "markdown",
     "metadata": {},
     "source": [
      "This works too, so we can do all of the calculations with nice separate axes and then reshape if needed at the end. "
     ]
    },
    {
     "cell_type": "heading",
     "level": 2,
     "metadata": {},
     "source": [
      "angles \"for real\""
     ]
    },
    {
     "cell_type": "code",
     "collapsed": false,
     "input": [
      "delta = ( z_bounds[1:] - z_bounds[:-1] )/2\n",
      "MU, D = np.meshgrid( mu, delta ) \n",
      "\n",
      "#physical depths\n",
      "PD = np.abs( D/MU ) \n",
      "\n",
      "##never mind this:\n",
      "# def physical_depth_2( zb, mu ):\n",
      "#     \"\"\"Compute the thicknesses of the layers.\"\"\"\n",
      "#     z = ( zb[1:] - zb[:-1] )/2\n",
      "#     a = np.ones_like(mu)\n",
      "#     a = a*z\n",
      "#     a[mu==0] = 0\n",
      "#     ind = mu != 0\n",
      "#     a[ind] = a[ind] / mu[ind]\n",
      "#     return (a[1:,:] - a[:-1,:])\n",
      "\n",
      "# pd = physical_depth_2( ZB, MU )\n",
      "# pd"
     ],
     "language": "python",
     "metadata": {},
     "outputs": []
    },
    {
     "cell_type": "code",
     "collapsed": false,
     "input": [
      "def solid_angle( mu_bounds ):\n",
      "    return 2 * np.pi * ( mu_bounds[1:] - mu_bounds[:-1] )\n",
      "\n",
      "sa = solid_angle( mu_bounds )\n",
      "np.sum(sa)/4/np.pi"
     ],
     "language": "python",
     "metadata": {},
     "outputs": []
    },
    {
     "cell_type": "code",
     "collapsed": false,
     "input": [
      "def optical_depth_2( densities, cross_sections, phys_depth ):\n",
      "    \"\"\"Calculate optical depths of each layer and along each line of sight.\n",
      "\n",
      "    This may not seem useful by itself, but optical depths for long paths can be obtained via np.cumsum\"\"\"\n",
      "    od = np.zeros_like(phys_depth)\n",
      "    \n",
      "    #eventually I would like to replace the for loop here\n",
      "    for i, sigma in enumerate(cross_sections):\n",
      "        od = od + sigma*densities[i][:,None]*phys_depth\n",
      "        \n",
      "    #This solution is too complicated for the first try:\n",
      "    #return np.einsum( \"ijk,ijk->ij\", densities, cross_sections ) * phys_depth\n",
      "    return od\n",
      "\n",
      "densities = [ nd[:Z.shape[0],i] for i in xrange( nd.shape[1] ) ] #kinda hacky...\n",
      "cross_sections = [3.9e-18, 10.44e-18, 10.10e-18]\n",
      "\n",
      "od = optical_depth_2( densities, cross_sections , PD )\n"
     ],
     "language": "python",
     "metadata": {},
     "outputs": []
    },
    {
     "cell_type": "markdown",
     "metadata": {},
     "source": [
      "This checks out. Now let's try to redo the scattering calculation as above! We need to do more more things to accomplish this.\n",
      "* edit single_scatter to use axis 2 for species (`hstack -> dstack`)\n",
      "* include a phase function this time\n",
      " * isotropic p.f. is just sa/$4\\pi$\n",
      "* we also need to make sure we only calculate optical depths along lines of sight. photons angled up can only scatter in layers above where they were emitted, etc. \n",
      " * This can be achieved by calculating optical depths as before but then multiplying element-wise by an array that is 1 above the diagonal on the height axis for positive mu and below the diagonal on the height axis where mu is negative. "
     ]
    },
    {
     "cell_type": "code",
     "collapsed": false,
     "input": [
      "# mask = np.ones_like( MU[:-1,:] )\n",
      "# mask[ np.where( MU[:-1,:] < 0 ) ] = 0\n",
      "# pd = physical_depth_2( Z, MU )\n",
      "od = optical_depth_2( densities, cross_sections, PD )\n",
      "# odi, odj = np.meshgrid( od, od )\n",
      "# mui, muj = np.meshgrid( MU, MU )\n",
      "# zi, zj   = np.meshgrid( Z , Z  )\n",
      "# a = (odj - odi)\n",
      "# a[mui!=muj] = 0\n",
      "# a[np.sign(zj-zi)!=np.sign(mui)] = 0\n",
      "od_sum = np.abs( np.cumsum( od, axis=0 ) )\n",
      "depth = np.zeros_like(od)\n",
      "n =od.shape[0]\n",
      "p_abs = np.zeros((n,n))\n",
      "zj, zi = np.meshgrid(range(n),range(n))\n",
      "for i, angle in enumerate(mu):\n",
      "    depth[:,i] = od_sum[:,i]\n",
      "    mj, mi = np.meshgrid( depth[:,i], depth[:,i] )\n",
      "    m = np.abs( mj - mi )\n",
      "    m[np.sign(zj-zi)!=np.sign(angle)] = 0\n",
      "    p_abs = p_abs + m\n",
      "plt.imshow( p_abs, cmap=cm.gray )\n",
      "plt.colorbar()\n",
      "# n  = od.shape[0]\n",
      "# a  = np.zeros((n,n))\n",
      "# oi, oj = np.meshgrid( np.cumsum( od[:,0] ), np.cumsum( od[:,0] ) )\n",
      "# a  = oj-oi\n",
      "# a[np.sign(zj-zi)==np.sign(MU[:,0])]=0\n",
      "# plt.imshow(a, cmap = cm.gray)\n",
      "# a.shape\n",
      "# plt.colorbar()\n",
      "np.sign(zj-zi)==np.sign(mu[1])"
     ],
     "language": "python",
     "metadata": {},
     "outputs": []
    },
    {
     "cell_type": "code",
     "collapsed": false,
     "input": [
      "def isotropic_phase( mu ):\n",
      "    return 1/solid_angle(mu)[0,:].size\n",
      "\n",
      "def single_scatter_2(neutral_densities, \n",
      "                     neutral_cross_sections, \n",
      "                     scatter_densities, \n",
      "                     scatter_cross_sections, \n",
      "                     phys_depth, \n",
      "                     phase_func \n",
      "                     ):\n",
      "    \"\"\"Calculate the single-scattering transition matrix.\"\"\"\n",
      "    optical_depth = optical_depth_2\n",
      "    ods = optical_depth_2( scatter_densities, scatter_cross_sections, phys_depth )\n",
      "    odt = optical_depth_2( \n",
      "                         np.dstack( [ neutral_densities, scatter_densities ] ),  #species is now officially axis 2\n",
      "                         np.dstack( [ neutral_cross_sections, scatter_cross_sections ] ), \n",
      "                         phys_depth\n",
      "                       )\n",
      "    od_sum = np.abs( np.cumsum( odt, axis=0 ) )\n",
      "    depth = np.zeros_like(odt)\n",
      "    n = odt.shape[0]\n",
      "    m = np.zeros((n,n))\n",
      "    zj, zi = np.meshgrid(range(n),range(n))\n",
      "    for i, angle in enumerate(mu):\n",
      "        depth[:,i] = od_sum[:,i]\n",
      "        mj, mi = np.meshgrid( depth[:,i], depth[:,i] )\n",
      "        mm = np.abs( mj - mi )\n",
      "        mm[np.sign(zj-zi)!=np.sign(angle)] = 0\n",
      "        odsj = np.meshgrid( ods[:,i], ods[:,i] )[0]\n",
      "        m = m + mm*odsj\n",
      "#     ods = ods.flatten()\n",
      "#     odt = odt.flatten()\n",
      "#     odti, odtj = np.meshgrid( np.cumsum( odt ), np.cumsum(odt) )\n",
      "    print \"ignoring phase function\"\n",
      "    return m #np.exp( -np.abs( odtj - odti ) ) * ( 1 - np.exp( -np.abs( odsj ) ) ) * phase_func\n",
      "isotropic_phase( MU )"
     ],
     "language": "python",
     "metadata": {},
     "outputs": []
    },
    {
     "cell_type": "markdown",
     "metadata": {},
     "source": [
      "Here goes..."
     ]
    },
    {
     "cell_type": "code",
     "collapsed": false,
     "input": [
      "# neutral densities\n",
      "neutral_features = ['[O]','[O2]','[N2]'] #'Tn (K)',\n",
      "data = auric.retrieve('inputs/atmos.dat', neutral_features )\n",
      "neutral_densities = [ data[gas][::-1] for gas in neutral_features ]\n",
      "\n",
      "# electron (O+) density\n",
      "electron_density = [ auric.retrieve('inputs/ionos.dat', ['[e-]'] )['[e-]'] ][::-1]\n",
      "\n",
      "# scattering cross sections\n",
      "temperature = auric.retrieve( 'inputs/atmos.dat', ['Tn (K)'] )['Tn (K)'][::-1]\n",
      "scattering_cs = sigma0*np.sqrt( 1000/temperature ) \n"
     ],
     "language": "python",
     "metadata": {},
     "outputs": []
    },
    {
     "cell_type": "code",
     "collapsed": false,
     "input": [
      "MS2 = single_scatter_2( nd2, acs2, cd2, scs2, pd2, pf )\n",
      "MM2 = np.linalg.inv( ( np.eye( MS2.shape[0] ) - MS2 ) )"
     ],
     "language": "python",
     "metadata": {},
     "outputs": []
    },
    {
     "cell_type": "code",
     "collapsed": false,
     "input": [
      "S02 = S0[:-1,None]*np.ones_like( solid_angle(MU)[:-1,:] )/(ntheta-1)\n",
      "\n",
      "#SF2 = np.dot( MM2, S02.reshape(S02.size) )\n",
      "\n",
      "plt.plot( Z[:-1,0] , np.sum( S02.reshape(99,3), axis=1 ) )\n",
      "#plt.plot( Z[:-1,0] , np.sum( SF2.reshape(99,4), axis=1 ) )\n",
      "plt.plot( Z[:,0] , S0 )\n",
      "plt.figure()\n",
      "plt.plot(S0[:-1]-np.sum(S02.reshape(99,3),axis=1))"
     ],
     "language": "python",
     "metadata": {},
     "outputs": []
    },
    {
     "cell_type": "code",
     "collapsed": false,
     "input": [
      "a = np.arange(16)+1\n",
      "a = a.reshape((4,4))\n",
      "a[:,:2] = a[:,:2]*-1\n",
      "print a-a.T\n"
     ],
     "language": "python",
     "metadata": {},
     "outputs": []
    },
    {
     "cell_type": "markdown",
     "metadata": {},
     "source": [
      "I have had to do some weird array manipulations to even be able to plot this, which means I basically am not starting with a smart geometry. The source function should be defined inside cells, not on sight lines."
     ]
    },
    {
     "cell_type": "code",
     "collapsed": false,
     "input": [
      "a = (np.arange(10)+1)*100\n",
      "b = np.arange(10)-4\n",
      "x,y = np.meshgrid(a,b)\n",
      "xx=x-x.T\n",
      "ind=np.where(np.sign(xx)!=np.sign(y))\n",
      "xx[ind]=0\n",
      "xx"
     ],
     "language": "python",
     "metadata": {},
     "outputs": []
    },
    {
     "cell_type": "code",
     "collapsed": false,
     "input": [
      "np.sign(xx), np.sign(y)"
     ],
     "language": "python",
     "metadata": {},
     "outputs": []
    },
    {
     "cell_type": "code",
     "collapsed": false,
     "input": [
      "x-x.T, y"
     ],
     "language": "python",
     "metadata": {},
     "outputs": []
    },
    {
     "cell_type": "code",
     "collapsed": false,
     "input": [
      "(y==y.T)*1."
     ],
     "language": "python",
     "metadata": {},
     "outputs": []
    },
    {
     "cell_type": "code",
     "collapsed": false,
     "input": [
      "y"
     ],
     "language": "python",
     "metadata": {},
     "outputs": []
    },
    {
     "cell_type": "code",
     "collapsed": false,
     "input": [
      "a=(1,2)"
     ],
     "language": "python",
     "metadata": {},
     "outputs": []
    },
    {
     "cell_type": "code",
     "collapsed": false,
     "input": [],
     "language": "python",
     "metadata": {},
     "outputs": []
    },
    {
     "cell_type": "code",
     "collapsed": false,
     "input": [],
     "language": "python",
     "metadata": {},
     "outputs": []
    }
   ],
   "metadata": {}
  }
 ]
}