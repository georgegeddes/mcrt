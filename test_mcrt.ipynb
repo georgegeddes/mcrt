{
 "metadata": {
  "name": "",
  "signature": ""
 },
 "nbformat": 3,
 "nbformat_minor": 0,
 "worksheets": [
  {
   "cells": [
    {
     "cell_type": "heading",
     "level": 1,
     "metadata": {},
     "source": [
      "Scattering Matrix"
     ]
    },
    {
     "cell_type": "markdown",
     "metadata": {},
     "source": [
      "First, test if the scattering matrix calculation works without calculatng the viewing matrix. In order to do this, we need to load up some cross section data to initialize `Gas`. Then, we need to load some neutral densities, temperature and an ionosphere to create an `Atmosphere`."
     ]
    },
    {
     "cell_type": "code",
     "collapsed": false,
     "input": [
      "%pylab inline\n",
      "import matplotlib.pyplot as plt\n",
      "import matplotlib.cm as cm\n",
      "import numpy as np\n",
      "import pyauric, mcrt"
     ],
     "language": "python",
     "metadata": {},
     "outputs": []
    },
    {
     "cell_type": "code",
     "collapsed": false,
     "input": [
      "!grep -A 16 \"#ifdef.*VICKERS\" ../jsv_rt_cython/RT/cross_sec.h"
     ],
     "language": "python",
     "metadata": {},
     "outputs": []
    },
    {
     "cell_type": "code",
     "collapsed": false,
     "input": [
      "mag = 1e-18\n",
      "f = lambda L: [ x * mag for x in L ]\n",
      "csO  = f( [  3.89,  3.89,  3.90 ] )\n",
      "csO2 = f( [ 33.80, 14.00, 10.40 ] )\n",
      "csN2 = f( [ 0.049,  0.29, 10.10 ] )\n",
      "\n",
      "for name, cs in [ (\"O\", csO ), (\"N2\", csN2 ), (\"O2\", csO2 ) ]:\n",
      "    mcrt.Gas( name, 'absorption', [832, 833, 834], cs )"
     ],
     "language": "python",
     "metadata": {},
     "outputs": []
    },
    {
     "cell_type": "markdown",
     "metadata": {},
     "source": [
      "The absorption cross sections are above, but the scattering cross sections are temperature-dependent."
     ]
    },
    {
     "cell_type": "code",
     "collapsed": false,
     "input": [
      "!grep -A 1 \"sig0_834.*=\" ../jsv_rt_cython/RT/gsrp.c\n",
      "!grep \"#define.*LAM83[234]\" ../jsv_rt_cython/RT/cross_sec.h"
     ],
     "language": "python",
     "metadata": {},
     "outputs": []
    },
    {
     "cell_type": "code",
     "collapsed": false,
     "input": [
      "# fake scattering cross sections\n",
      "wavelengths = [ 832.757e-8, 833.329e-8, 834.466e-8 ]\n",
      "mO16 = 1.489917e10 # eV / c^2\n",
      "#e^2 = hbar c alpha\n",
      "hbarc = 1.97327e-5 # eV cm\n",
      "alpha = 1.0/127.0\n",
      "me = 5.109989e5    # eV / c^2\n",
      "c = 2.998e10       # cm/s\n",
      "kb = 8.6173e-5      # eV / K\n",
      "T = 1000           # K\n",
      "\n",
      "sig0_over_f = lambda x : x * np.sqrt( mO16 * hbarc * alpha / ( 2 * kb * T * c * me ) )\n",
      "\n",
      "fosc = [ 0.0459, 0.0916, 0.1371 ]\n",
      "\n",
      "sigma_scatter = [ sig0_over_f(w)*fosc[i] for (i, w) in enumerate(wavelengths) ]\n",
      "\n",
      "mcrt.Gas( \"O+\", 'scattering', [832, 833, 834], sigma_scatter )\n",
      "\n",
      "print [ (name, gas.sigma[0](900)) for (name, gas) in mcrt.Gas.species.iteritems() ]"
     ],
     "language": "python",
     "metadata": {},
     "outputs": []
    },
    {
     "cell_type": "code",
     "collapsed": false,
     "input": [
      "auric = pyauric.AURICManager('./inputs')\n",
      "\n",
      "n_species = [ \"[O]\", \"[O2]\", \"[N2]\" ]\n",
      "\n",
      "neutrals = auric.retrieve(\"atmos.dat\", n_species + ['Tn (K)'])\n",
      "temperatures = neutrals['Tn (K)']\n",
      "absorbers = { k[1:-1]:v for (k,v) in neutrals.iteritems() if '[' in k }\n",
      "altitudes = neutrals[\"ALT\"]\n",
      "absorbers.keys()"
     ],
     "language": "python",
     "metadata": {},
     "outputs": []
    },
    {
     "cell_type": "code",
     "collapsed": false,
     "input": [
      "oplus = auric.retrieve(\"ionos.dat\", ['[e-]'])\n",
      "oplus.keys()"
     ],
     "language": "python",
     "metadata": {},
     "outputs": []
    },
    {
     "cell_type": "code",
     "collapsed": false,
     "input": [
      "# two streams:\n",
      "angles = [np.sqrt(1/3), -np.sqrt(1/3)]"
     ],
     "language": "python",
     "metadata": {},
     "outputs": []
    },
    {
     "cell_type": "code",
     "collapsed": false,
     "input": [
      "atmosphere = mcrt.Atmosphere( altitudes, angles, temperatures, absorbers, oplus['[e-]'], range(180) ) "
     ],
     "language": "python",
     "metadata": {},
     "outputs": []
    },
    {
     "cell_type": "code",
     "collapsed": false,
     "input": [
      "Mm = atmosphere.multiple_scatter_matrix(2,viewing=False)"
     ],
     "language": "python",
     "metadata": {},
     "outputs": []
    },
    {
     "cell_type": "code",
     "collapsed": false,
     "input": [
      "plt.imshow(Mm, cmap=cm.gray_r)\n",
      "plt.colorbar();"
     ],
     "language": "python",
     "metadata": {},
     "outputs": []
    },
    {
     "cell_type": "code",
     "collapsed": false,
     "input": [
      "thin_lines = ! grep \"O.*83[234] A.*initial.*\" inputs/dayglo.ver "
     ],
     "language": "python",
     "metadata": {},
     "outputs": []
    },
    {
     "cell_type": "code",
     "collapsed": false,
     "input": [
      "source = auric.retrieve(\"dayglo.ver\", features=thin_lines)\n",
      "S = source['O+hv 834 A (initial)']\n",
      "S_avg = (S[1:]+S[:-1])/2\n",
      "z = ( source['ALT'][1:] + source['ALT'][:-1] )/2\n",
      "S0 = np.hstack( [ S_avg/2 ]*2 )\n",
      "SF = Mm.dot( S0 )\n",
      "# print SF\n",
      "SF = SF.reshape( (2, len(SF)/2) )\n",
      "# print SF\n",
      "SF = np.sum(SF, axis=0)\n",
      "# print SF"
     ],
     "language": "python",
     "metadata": {},
     "outputs": []
    },
    {
     "cell_type": "code",
     "collapsed": false,
     "input": [
      "plt.plot(z, S_avg )\n",
      "plt.plot(z, SF)\n",
      "plt.yscale('log')\n",
      "plt.xlim(100,1000)\n",
      "plt.ylim(1e-5,1e2)"
     ],
     "language": "python",
     "metadata": {},
     "outputs": []
    },
    {
     "cell_type": "code",
     "collapsed": true,
     "input": [
      "lines = [ plt.plot(z,atmosphere.dtau[i], label=\"dt\"+str(i)) for i in xrange(3) ]\n",
      "lines.append([ plt.plot(z, atmosphere.albedo[i], label=\"al\"+str(i)) for i in xrange(3) ])\n",
      "plt.legend()\n",
      "plt.xlim(200,1000)\n",
      "plt.ylim(1e-4,10)\n",
      "plt.yscale('log')"
     ],
     "language": "python",
     "metadata": {},
     "outputs": []
    },
    {
     "cell_type": "code",
     "collapsed": false,
     "input": [
      "Ms = np.fromiter( (atmosphere.Ms(k[0],l[0],l[1],0) for k in atmosphere.transient for l in atmosphere.transient  ),\\\n",
      "                 dtype=float ) \n",
      "n = len(atmosphere.transient)\n",
      "Ms = Ms.reshape((n,n))"
     ],
     "language": "python",
     "metadata": {},
     "outputs": []
    },
    {
     "cell_type": "code",
     "collapsed": true,
     "input": [
      "plt.imshow(Ms, cmap=cm.gray_r)\n",
      "plt.colorbar();"
     ],
     "language": "python",
     "metadata": {},
     "outputs": []
    },
    {
     "cell_type": "code",
     "collapsed": false,
     "input": [],
     "language": "python",
     "metadata": {},
     "outputs": []
    },
    {
     "cell_type": "code",
     "collapsed": false,
     "input": [],
     "language": "python",
     "metadata": {},
     "outputs": []
    },
    {
     "cell_type": "code",
     "collapsed": false,
     "input": [],
     "language": "python",
     "metadata": {},
     "outputs": []
    },
    {
     "cell_type": "code",
     "collapsed": false,
     "input": [],
     "language": "python",
     "metadata": {},
     "outputs": []
    },
    {
     "cell_type": "code",
     "collapsed": false,
     "input": [],
     "language": "python",
     "metadata": {},
     "outputs": []
    }
   ],
   "metadata": {}
  }
 ]
}