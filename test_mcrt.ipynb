{
 "cells": [
  {
   "cell_type": "markdown",
   "metadata": {},
   "source": [
    "# Scattering Matrix"
   ]
  },
  {
   "cell_type": "markdown",
   "metadata": {},
   "source": [
    "First, test if the scattering matrix calculation works without calculatng the viewing matrix. In order to do this, we need to load up some cross section data to initialize `Gas`. Then, we need to load some neutral densities, temperature and an ionosphere to create an `Atmosphere`."
   ]
  },
  {
   "cell_type": "code",
   "execution_count": 10,
   "metadata": {
    "collapsed": false
   },
   "outputs": [],
   "source": [
    "%matplotlib inline\n",
    "import matplotlib.pyplot as plt\n",
    "import matplotlib.cm as cm\n",
    "from matplotlib.colors import LogNorm\n",
    "import numpy as np\n",
    "import scipy.integrate, scipy.interpolate\n",
    "import pyauric, mcrt"
   ]
  },
  {
   "cell_type": "code",
   "execution_count": 11,
   "metadata": {
    "collapsed": false
   },
   "outputs": [
    {
     "name": "stdout",
     "output_type": "stream",
     "text": [
      "#ifdef  VICKERS\r\n",
      "#define SIGAO__832  ( 3.89  Mbarn)\r\n",
      "#define SIGAO2_832  (33.80  Mbarn)\r\n",
      "#define SIGAN2_832  ( 0.049 Mbarn)\r\n",
      "#define FOSC832       0.0459\r\n",
      "\r\n",
      "#define SIGAO__833  ( 3.89  Mbarn)\r\n",
      "#define SIGAO2_833  (14.00  Mbarn)\r\n",
      "#define SIGAN2_833  ( 0.29  Mbarn)\r\n",
      "#define FOSC833       0.0916\r\n",
      "\r\n",
      "#define SIGAO__834  ( 3.90  Mbarn)\r\n",
      "#define SIGAO2_834  (10.40  Mbarn)\r\n",
      "#define SIGAN2_834  (10.10  Mbarn)\r\n",
      "#define FOSC834       0.1371\r\n",
      "\r\n",
      "static char *credits = \"Vickers/Link\";\r\n"
     ]
    }
   ],
   "source": [
    "!grep -A 16 \"#ifdef.*VICKERS\" ../jsv_rt_cython/RT/cross_sec.h"
   ]
  },
  {
   "cell_type": "code",
   "execution_count": 12,
   "metadata": {
    "collapsed": false
   },
   "outputs": [],
   "source": [
    "mag = 1e-18\n",
    "f = lambda L: [ x * mag for x in L ]\n",
    "csO  = f( [  3.89,  3.89,  3.90 ] )\n",
    "csO2 = f( [ 33.80, 14.00, 10.40 ] )\n",
    "csN2 = f( [ 0.049,  0.29, 10.10 ] )\n",
    "\n",
    "amu = 1.660538921e-27 # kg \n",
    "mO = 16 * amu\n",
    "mO2 = 32 * amu\n",
    "mN2 = 28 * amu\n",
    "\n",
    "for name, cs, mass in [ (\"O\", csO, mO ), (\"N2\", csN2, mN2 ), (\"O2\", csO2, mO2 ) ]:\n",
    "    mcrt.Gas( name, 'absorption', [832, 833, 834], cs, mass )"
   ]
  },
  {
   "cell_type": "markdown",
   "metadata": {},
   "source": [
    "The absorption cross sections are above, but the scattering cross sections are temperature-dependent."
   ]
  },
  {
   "cell_type": "code",
   "execution_count": 13,
   "metadata": {
    "collapsed": false
   },
   "outputs": [
    {
     "name": "stdout",
     "output_type": "stream",
     "text": [
      "sig0_834  = LAM834 * sqrt(16.*_AMU_/2.0/Pi/_kb_/TREF) *\n",
      "            (Pi*_e_*_e_/_Me_/_c_)*FOSC834;\n",
      "#define LAM834 (834.466e-8 cm)\n",
      "#define LAM833 (833.329e-8 cm)\n",
      "#define LAM832 (832.757e-8 cm)\n"
     ]
    }
   ],
   "source": [
    "!grep -A 1 \"sig0_834.*=\" ../jsv_rt_cython/RT/gsrp.c\n",
    "!grep \"#define.*LAM83[234]\" ../jsv_rt_cython/RT/cross_sec.h"
   ]
  },
  {
   "cell_type": "code",
   "execution_count": 14,
   "metadata": {
    "collapsed": false
   },
   "outputs": [
    {
     "name": "stdout",
     "output_type": "stream",
     "text": [
      "[('N2', 4.900000000000001e-20), ('O+', 3.5791261878102976e-13), ('O2', 3.38e-17), ('O', 3.89e-18)]\n",
      "[3.5791261878102976e-13, 7.1475631674107099e-13, 1.0712532040813149e-12]\n"
     ]
    }
   ],
   "source": [
    "# fake scattering cross sections\n",
    "wavelengths = [ 832.757e-8, 833.329e-8, 834.466e-8 ]\n",
    "mO16 = 1.489917e10 # eV / c^2\n",
    "#e^2 = hbar c alpha\n",
    "hbarc = 1.97327e-5 # eV cm\n",
    "alpha = 1.0/127.0\n",
    "me = 5.109989e5    # eV / c^2\n",
    "c = 2.998e10       # cm/s\n",
    "kb = 8.6173e-5      # eV / K\n",
    "T = 1000           # K\n",
    "\n",
    "sig0_over_f = lambda x : x * np.sqrt( mO16 * hbarc * alpha / ( 2 * kb * T * c * me ) )\n",
    "\n",
    "fosc = [ 0.0459, 0.0916, 0.1371 ]\n",
    "\n",
    "sigma_scatter = [ sig0_over_f(w)*fosc[i] for (i, w) in enumerate(wavelengths) ]\n",
    "\n",
    "mcrt.Gas( \"O+\", 'scattering', [832, 833, 834], sigma_scatter, mO )\n",
    "\n",
    "print [ (name, gas.sigma[0]) for (name, gas) in mcrt.Gas.species.iteritems() ]\n",
    "print sigma_scatter"
   ]
  },
  {
   "cell_type": "code",
   "execution_count": 15,
   "metadata": {
    "collapsed": false
   },
   "outputs": [],
   "source": [
    "auric = pyauric.AURICManager('./inputs')\n",
    "\n",
    "n_species = [ \"[O]\", \"[O2]\", \"[N2]\" ]\n",
    "\n",
    "neutrals = auric.retrieve(\"atmos.dat\", n_species + ['Tn (K)'])\n",
    "temperatures = neutrals['Tn (K)']\n",
    "absorbers = { k[1:-1]:v for (k,v) in neutrals.iteritems() if '[' in k }\n",
    "altitudes = neutrals[\"ALT\"]\n",
    "absorbers.keys()\n",
    "\n",
    "msis = np.genfromtxt(\"inputs/msis.txt\")\n",
    "msis_n  = { k:v for (k,v) in zip(['ALT','O','N2','O2','Tn (K)'], [ msis[::-1,i] for i in xrange(6)] )}\n",
    "Hm=80\n",
    "Nm=1.5e5\n",
    "hm=200\n",
    "chapman = np.vectorize(lambda z: (Nm)*np.exp((1-(z-hm)/Hm-np.exp(-(z-hm)/Hm))/2))\n",
    "oplus_new = chapman(msis_n['ALT'])"
   ]
  },
  {
   "cell_type": "code",
   "execution_count": 16,
   "metadata": {
    "collapsed": false
   },
   "outputs": [],
   "source": [
    "oplus = auric.retrieve(\"ionos.dat\", ['[e-]'])\n",
    "oplus.keys()\n",
    "oplus_interp = scipy.interpolate.interp1d(oplus['ALT'][::-1], oplus['[e-]'][::-1],\n",
    "                                          bounds_error=False, fill_value=1e-10)\n",
    "ionos_from_auric = oplus_interp(msis_n['ALT'])"
   ]
  },
  {
   "cell_type": "code",
   "execution_count": 17,
   "metadata": {
    "collapsed": false
   },
   "outputs": [],
   "source": [
    "# two streams:\n",
    "angles = np.array([np.sqrt(1/3.), -np.sqrt(1/3.)])\n",
    "angles = np.arccos(angles)\n",
    "\n",
    "viewing_angles = np.arange(95,116) * np.pi / 180"
   ]
  },
  {
   "cell_type": "code",
   "execution_count": 18,
   "metadata": {
    "collapsed": false
   },
   "outputs": [],
   "source": [
    "# atmosphere = mcrt.Atmosphere( msis_n['ALT'], angles, msis_n['Tn (K)'], msis_n, ionos_from_auric, viewing_angles ) \n",
    "atmosphere = mcrt.Atmosphere( altitudes, angles, temperatures, absorbers, oplus['[e-]'], viewing_angles ) "
   ]
  },
  {
   "cell_type": "code",
   "execution_count": 19,
   "metadata": {
    "collapsed": false
   },
   "outputs": [],
   "source": [
    "Mm = atmosphere.multiple_scatter_matrix( 2 )"
   ]
  },
  {
   "cell_type": "code",
   "execution_count": 20,
   "metadata": {
    "collapsed": false
   },
   "outputs": [],
   "source": [
    "n = len(atmosphere.transient)\n",
    "Q = np.fromiter( ( atmosphere.Q( k, l, 2 ) for k in atmosphere.transient for l in atmosphere.transient ), dtype=np.float )\n",
    "Q = Q.reshape( ( n, n ) )"
   ]
  },
  {
   "cell_type": "code",
   "execution_count": 21,
   "metadata": {
    "collapsed": false
   },
   "outputs": [
    {
     "data": {
      "text/plain": [
       "array([[ 10.,  18.],\n",
       "       [ 42.,  50.]])"
      ]
     },
     "execution_count": 21,
     "metadata": {},
     "output_type": "execute_result"
    }
   ],
   "source": [
    "def sum_down_square(a):\n",
    "    N = a.shape[0]\n",
    "    n = int(np.sqrt(N))\n",
    "    out = np.empty((n,n))\n",
    "    for j in xrange(a.size):\n",
    "        ra, ca = j//N, j%N\n",
    "        ro, co = ra//n, ca//n\n",
    "        out[ro,co] += a[ra,ca]\n",
    "    return out\n",
    "sum_down_square(a)"
   ]
  },
  {
   "cell_type": "code",
   "execution_count": 22,
   "metadata": {
    "collapsed": false
   },
   "outputs": [
    {
     "ename": "IndexError",
     "evalue": "index 14 is out of bounds for axis 1 with size 14",
     "output_type": "error",
     "traceback": [
      "\u001b[1;31m---------------------------------------------------------------------------\u001b[0m",
      "\u001b[1;31mIndexError\u001b[0m                                Traceback (most recent call last)",
      "\u001b[1;32m<ipython-input-22-e652ede4ef5e>\u001b[0m in \u001b[0;36m<module>\u001b[1;34m()\u001b[0m\n\u001b[0;32m      1\u001b[0m \u001b[0mp\u001b[0m \u001b[1;33m=\u001b[0m \u001b[0matmosphere\u001b[0m\u001b[1;33m.\u001b[0m\u001b[0mN_layers\u001b[0m\u001b[1;33m\u001b[0m\u001b[0m\n\u001b[1;32m----> 2\u001b[1;33m \u001b[0mQ_sum\u001b[0m \u001b[1;33m=\u001b[0m \u001b[0msum_down_square\u001b[0m\u001b[1;33m(\u001b[0m\u001b[0mQ\u001b[0m\u001b[1;33m)\u001b[0m\u001b[1;33m\u001b[0m\u001b[0m\n\u001b[0m\u001b[0;32m      3\u001b[0m \u001b[0mMm_sum\u001b[0m \u001b[1;33m=\u001b[0m \u001b[0msum_down_square\u001b[0m\u001b[1;33m(\u001b[0m\u001b[0mMm\u001b[0m\u001b[1;33m)\u001b[0m\u001b[1;33m\u001b[0m\u001b[0m\n",
      "\u001b[1;32m<ipython-input-21-d9703f2c2984>\u001b[0m in \u001b[0;36msum_down_square\u001b[1;34m(a)\u001b[0m\n\u001b[0;32m      6\u001b[0m         \u001b[0mra\u001b[0m\u001b[1;33m,\u001b[0m \u001b[0mca\u001b[0m \u001b[1;33m=\u001b[0m \u001b[0mj\u001b[0m\u001b[1;33m//\u001b[0m\u001b[0mN\u001b[0m\u001b[1;33m,\u001b[0m \u001b[0mj\u001b[0m\u001b[1;33m%\u001b[0m\u001b[0mN\u001b[0m\u001b[1;33m\u001b[0m\u001b[0m\n\u001b[0;32m      7\u001b[0m         \u001b[0mro\u001b[0m\u001b[1;33m,\u001b[0m \u001b[0mco\u001b[0m \u001b[1;33m=\u001b[0m \u001b[0mra\u001b[0m\u001b[1;33m//\u001b[0m\u001b[0mn\u001b[0m\u001b[1;33m,\u001b[0m \u001b[0mca\u001b[0m\u001b[1;33m//\u001b[0m\u001b[0mn\u001b[0m\u001b[1;33m\u001b[0m\u001b[0m\n\u001b[1;32m----> 8\u001b[1;33m         \u001b[0mout\u001b[0m\u001b[1;33m[\u001b[0m\u001b[0mro\u001b[0m\u001b[1;33m,\u001b[0m\u001b[0mco\u001b[0m\u001b[1;33m]\u001b[0m \u001b[1;33m+=\u001b[0m \u001b[0ma\u001b[0m\u001b[1;33m[\u001b[0m\u001b[0mra\u001b[0m\u001b[1;33m,\u001b[0m\u001b[0mca\u001b[0m\u001b[1;33m]\u001b[0m\u001b[1;33m\u001b[0m\u001b[0m\n\u001b[0m\u001b[0;32m      9\u001b[0m     \u001b[1;32mreturn\u001b[0m \u001b[0mout\u001b[0m\u001b[1;33m\u001b[0m\u001b[0m\n\u001b[0;32m     10\u001b[0m \u001b[0msum_down_square\u001b[0m\u001b[1;33m(\u001b[0m\u001b[0ma\u001b[0m\u001b[1;33m)\u001b[0m\u001b[1;33m\u001b[0m\u001b[0m\n",
      "\u001b[1;31mIndexError\u001b[0m: index 14 is out of bounds for axis 1 with size 14"
     ]
    }
   ],
   "source": [
    "p = atmosphere.N_layers\n",
    "Q_sum = sum_down_square(Q)\n",
    "Mm_sum = sum_down_square(Mm)"
   ]
  },
  {
   "cell_type": "code",
   "execution_count": 71,
   "metadata": {
    "collapsed": false
   },
   "outputs": [
    {
     "data": {
      "image/png": "[encoded data removed]",
      "text/plain": [
       "<matplotlib.figure.Figure at 0x7fa010dd9e90>"
      ]
     },
     "metadata": {},
     "output_type": "display_data"
    }
   ],
   "source": [
    "style ={'norm':LogNorm(vmin=1e-4, vmax=1), \n",
    "        'cmap':cm.YlGnBu_r\n",
    "        }\n",
    "\n",
    "# axlabel = np.hstack([atmosphere.z/1e5]*2)\n",
    "axlabel=atmosphere.z/1e5\n",
    "\n",
    "# plt.title('upwelling')\n",
    "# plt.imshow( Mm[:atmosphere.N_layers,:atmosphere.N_layers], **style )\n",
    "# plt.colorbar();\n",
    "# plt.figure()\n",
    "# plt.title('downwelling')\n",
    "# plt.imshow( Mm[atmosphere.N_layers:,atmosphere.N_layers:], **style )\n",
    "# plt.colorbar();\n",
    "\n",
    "fig, axes = plt.subplots(ncols=2,nrows=1,sharey=True)\n",
    "fig.set_size_inches((10,4))\n",
    "#gs = plt.GridSpec(1,3, width_ratios=[10,10,1])\n",
    "axM, axQ = axes #fig.add_subplot(gs[0]), fig.add_subplot(gs[1])\n",
    "\n",
    "axM.set_title(r'Multiple Scattering Matrix')\n",
    "imgM = axM.pcolormesh(axlabel,axlabel, Mm_sum, **style )\n",
    "axM.set_xlabel('source altitude [km]')\n",
    "axM.set_ylabel('scattering altitude [km]')\n",
    "# plt.colorbar(imgM);\n",
    "\n",
    "imgQ = axQ.pcolormesh(axlabel, axlabel, Q_sum, **style)\n",
    "axQ.set_title(r'Single Scattering Matrix')\n",
    "axQ.set_xlabel('source altitude [km]')\n",
    "# axQ.set_yticklabels([])\n",
    "\n",
    "# # http://stackoverflow.com/questions/18195758/set-matplotlib-colorbar-size-to-match-graph\n",
    "# from mpl_toolkits.axes_grid1 import make_axes_locatable\n",
    "# divider = make_axes_locatable(axQ)\n",
    "# cax = divider.append_axes(\"right\", size=\"5%\", pad=0.05)\n",
    "\n",
    "# cax = plt.subplot(gs[2])\n",
    "# plt.colorbar(imgM,cax=cax)\n",
    "\n",
    "# http://stackoverflow.com/questions/13784201/matplotlib-2-subplots-1-colorbar\n",
    "import matplotlib as mpl\n",
    "cax,kw = mpl.colorbar.make_axes([ax for ax in axes])\n",
    "plt.colorbar(imgM,cax=cax,**kw)\n",
    "axQ.set_aspect(1)\n",
    "axM.set_aspect(1)\n",
    "\n",
    "# axQ.set_ylabel('altitude [km]')\n",
    "# plt.colorbar(imgQ);\n",
    "plt.savefig('../papers/matrix-technique/figures/graphical-matrices.eps')"
   ]
  },
  {
   "cell_type": "code",
   "execution_count": 13,
   "metadata": {
    "collapsed": false
   },
   "outputs": [],
   "source": [
    "thin_lines = ! grep \"O.*83[234] A.*initial.*\" inputs/dayglo.ver \n",
    "thick_lines = ! grep \"83[234].*final\" inputs/dayglo.ver"
   ]
  },
  {
   "cell_type": "code",
   "execution_count": 14,
   "metadata": {
    "collapsed": false
   },
   "outputs": [],
   "source": [
    "feautrier = auric.retrieve( \"dayglo.ver\", features=thick_lines )\n",
    "sourcef = auric.retrieve( \"dayglo.ver\", features=thin_lines )\n",
    "S = scipy.interpolate.interp1d(sourcef['ALT'][::-1]*1e5, sourcef['O+hv 834 A (initial)'][::-1])\n",
    "z = sourcef['ALT']\n",
    "S0 = np.hstack( [ S(atmosphere.z) / 2 ]*2 )\n",
    "cdf = -scipy.integrate.cumtrapz(sourcef['O+hv 834 A (initial)'], sourcef['ALT'], initial=0) \n",
    "cdf = 1 - cdf / np.max(cdf)\n",
    "dcdf = cdf[1:]-cdf[:-1]\n",
    "dx = sourcef['ALT'][:-1] - sourcef['ALT'][1:]\n",
    "pdf = np.zeros_like(cdf)\n",
    "pdf[1:] = -dcdf/dx\n",
    "#plt.plot(sourcef['ALT'],cdf, sourcef['ALT'], pdf)\n",
    "\n",
    "#S0 = np.max(sourcef['O+hv 834 A (initial)'])/np.max(pdf) * pdf\n",
    "#S0_interp = scipy.interpolate.interp1d(sourcef['ALT'][::-1], S0[::-1], bounds_error=False, fill_value = 0)\n",
    "#y = S0_interp(atmosphere.z*1e-5)\n",
    "#S0 = np.hstack( [ y / 2 ] * 2 )\n",
    "SF = np.dot( S0, Mm )\n",
    "# print SF\n",
    "SF = SF.reshape( (2, len(SF)/2) )\n",
    "# print SF\n",
    "SF = np.sum(SF, axis=0)\n",
    "# print SF"
   ]
  },
  {
   "cell_type": "code",
   "execution_count": 15,
   "metadata": {
    "collapsed": false
   },
   "outputs": [
    {
     "data": {
      "image/png": "[encoded data removed]",
      "text/plain": [
       "<matplotlib.figure.Figure at 0x7fa01e339c50>"
      ]
     },
     "metadata": {},
     "output_type": "display_data"
    }
   ],
   "source": [
    "lw=5\n",
    "plt.figure(figsize=(16,9))\n",
    "plt.plot( z, sourcef['O+hv 834 A (initial)'], label=\"source\", lw=lw )\n",
    "plt.plot( atmosphere.z*1e-5, SF, label=\"markov\", lw=lw  )\n",
    "# plt.plot( z, pdf, label='pdf' )\n",
    "plt.plot( feautrier[\"ALT\"], feautrier[\"834 A (final)\"], label=\"feautrier\", lw=lw  )\n",
    "plt.yscale('log')\n",
    "# plt.xscale('log')\n",
    "plt.xlim(100,1000)\n",
    "plt.ylim(1e-2, 1e2)\n",
    "plt.grid(b=True, which=\"both\")\n",
    "plt.legend(fontsize=24, framealpha=1.0);"
   ]
  },
  {
   "cell_type": "code",
   "execution_count": 16,
   "metadata": {
    "collapsed": false
   },
   "outputs": [
    {
     "data": {
      "text/plain": [
       "(8000000.0, 100000000.0)"
      ]
     },
     "execution_count": 16,
     "metadata": {},
     "output_type": "execute_result"
    },
    {
     "data": {
      "image/png": "[encoded data removed]",
      "text/plain": [
       "<matplotlib.figure.Figure at 0x7fa01e339d90>"
      ]
     },
     "metadata": {},
     "output_type": "display_data"
    },
    {
     "data": {
      "image/png": "[encoded data removed]",
      "text/plain": [
       "<matplotlib.figure.Figure at 0x7fa017712dd0>"
      ]
     },
     "metadata": {},
     "output_type": "display_data"
    }
   ],
   "source": [
    "f_interp = scipy.interpolate.griddata( feautrier[\"ALT\"]*1e5, feautrier[\"834 A (final)\"], atmosphere.z )\n",
    "plt.plot(atmosphere.z, SF/feautrier[\"834 A (final)\"]-1)\n",
    "plt.xlim(0.8e7,1e8)\n",
    "plt.ylim(-1,1)\n",
    "plt.figure()\n",
    "plt.plot(atmosphere.z,S0[:len(SF)]*2)\n",
    "plt.plot(atmosphere.z,SF)\n",
    "plt.plot(atmosphere.z,f_interp)\n",
    "plt.xlim(0.8e7,1e8)"
   ]
  },
  {
   "cell_type": "markdown",
   "metadata": {},
   "source": [
    "## Next Steps"
   ]
  },
  {
   "cell_type": "markdown",
   "metadata": {},
   "source": [
    "* Weight elements non-uniformly in optical depth\n",
    "    * At higher altitudes, the initial source does change rapidly\n",
    "    * Increasing altitude reolution to 1 km has no effect\n",
    "* Add higher angular resolution\n",
    "    * Not sure how this would help -- maybe having slightly shorter paths will increase transport\n",
    "* Closer look at CFR -- I'll try this first"
   ]
  },
  {
   "cell_type": "code",
   "execution_count": 17,
   "metadata": {
    "collapsed": false
   },
   "outputs": [
    {
     "data": {
      "text/plain": [
       "<matplotlib.lines.Line2D at 0x7fa019b41190>"
      ]
     },
     "execution_count": 17,
     "metadata": {},
     "output_type": "execute_result"
    },
    {
     "data": {
      "image/png": "[encoded data removed]",
      "text/plain": [
       "<matplotlib.figure.Figure at 0x7fa018126150>"
      ]
     },
     "metadata": {},
     "output_type": "display_data"
    }
   ],
   "source": [
    "lines = [ plt.plot(atmosphere.z, atmosphere.tau[i][:,0], label=r\"$\\tau(\"+str(832+i)+\")$\") for i in xrange(3) ]\n",
    "lines.append( [ plt.plot(atmosphere.z, atmosphere.dtau[i][:,0], label=r\"$d\\tau(\"+str(832+i)+\")$\", ls='--')\n",
    "               for i in xrange(3) ] )\n",
    "lines.append([ plt.plot(atmosphere.z, (atmosphere.tau_s[i][:,0]), label=r\"$\\tau_s(\"+str(i+832)+\")$\", ls=':')\n",
    "              for i in xrange(3) ])\n",
    "plt.legend(loc ='upper right')\n",
    "plt.grid()\n",
    "plt.title('line center optical depths')\n",
    "\n",
    "plt.yscale('log')\n",
    "plt.axvline(80e5)"
   ]
  },
  {
   "cell_type": "code",
   "execution_count": 18,
   "metadata": {
    "collapsed": false
   },
   "outputs": [
    {
     "data": {
      "text/plain": [
       "<matplotlib.text.Text at 0x7fa0199e0210>"
      ]
     },
     "execution_count": 18,
     "metadata": {},
     "output_type": "execute_result"
    },
    {
     "data": {
      "image/png": "[encoded data removed]",
      "text/plain": [
       "<matplotlib.figure.Figure at 0x7fa01e339510>"
      ]
     },
     "metadata": {},
     "output_type": "display_data"
    }
   ],
   "source": [
    "lines = ([ plt.plot(atmosphere.z, (atmosphere.albedo[i][:,0]),\n",
    "                    label=r\"$\\varpi_0(\"+str(i+832)+\")$\") for i in xrange(3) ])\n",
    "plt.yscale('log')\n",
    "plt.xscale('log')\n",
    "plt.grid()\n",
    "plt.legend(loc='best')\n",
    "plt.title(\"Single Scattering Albedo\")\n",
    "plt.xlabel(r\"$z$ (cm)\")\n",
    "plt.ylabel(r\"$\\varpi_0$\")"
   ]
  },
  {
   "cell_type": "code",
   "execution_count": 19,
   "metadata": {
    "collapsed": false
   },
   "outputs": [
    {
     "ename": "AttributeError",
     "evalue": "'Atmosphere' object has no attribute 'view_depth'",
     "output_type": "error",
     "traceback": [
      "\u001b[1;31m---------------------------------------------------------------------------\u001b[0m",
      "\u001b[1;31mAttributeError\u001b[0m                            Traceback (most recent call last)",
      "\u001b[1;32m<ipython-input-19-36875bcc2a3b>\u001b[0m in \u001b[0;36m<module>\u001b[1;34m()\u001b[0m\n\u001b[0;32m      9\u001b[0m R = np.fromiter( (atmosphere.R( l, e, w ) \n\u001b[0;32m     10\u001b[0m                   for l in atmosphere.transient for e in atmosphere.ergodic  ),\n\u001b[1;32m---> 11\u001b[1;33m                 dtype=float )\n\u001b[0m\u001b[0;32m     12\u001b[0m \u001b[0mr\u001b[0m \u001b[1;33m=\u001b[0m \u001b[0mlen\u001b[0m\u001b[1;33m(\u001b[0m\u001b[0matmosphere\u001b[0m\u001b[1;33m.\u001b[0m\u001b[0mergodic\u001b[0m\u001b[1;33m)\u001b[0m\u001b[1;33m\u001b[0m\u001b[0m\n\u001b[0;32m     13\u001b[0m \u001b[0mR\u001b[0m \u001b[1;33m=\u001b[0m \u001b[0mR\u001b[0m\u001b[1;33m.\u001b[0m\u001b[0mreshape\u001b[0m\u001b[1;33m(\u001b[0m \u001b[1;33m(\u001b[0m \u001b[0mn\u001b[0m\u001b[1;33m,\u001b[0m \u001b[0mr\u001b[0m \u001b[1;33m)\u001b[0m \u001b[1;33m)\u001b[0m\u001b[1;33m\u001b[0m\u001b[0m\n",
      "\u001b[1;32m<ipython-input-19-36875bcc2a3b>\u001b[0m in \u001b[0;36m<genexpr>\u001b[1;34m((l,))\u001b[0m\n\u001b[0;32m      8\u001b[0m \u001b[1;33m\u001b[0m\u001b[0m\n\u001b[0;32m      9\u001b[0m R = np.fromiter( (atmosphere.R( l, e, w ) \n\u001b[1;32m---> 10\u001b[1;33m                   for l in atmosphere.transient for e in atmosphere.ergodic  ),\n\u001b[0m\u001b[0;32m     11\u001b[0m                 dtype=float )\n\u001b[0;32m     12\u001b[0m \u001b[0mr\u001b[0m \u001b[1;33m=\u001b[0m \u001b[0mlen\u001b[0m\u001b[1;33m(\u001b[0m\u001b[0matmosphere\u001b[0m\u001b[1;33m.\u001b[0m\u001b[0mergodic\u001b[0m\u001b[1;33m)\u001b[0m\u001b[1;33m\u001b[0m\u001b[0m\n",
      "\u001b[1;32m/home/geddes/projects/RAIDS/markov-rt/mcrt/mcrt.pyc\u001b[0m in \u001b[0;36mR\u001b[1;34m(self, l, e, wavelength)\u001b[0m\n\u001b[0;32m    223\u001b[0m         \u001b[1;31m# upwelling\u001b[0m\u001b[1;33m\u001b[0m\u001b[1;33m\u001b[0m\u001b[0m\n\u001b[0;32m    224\u001b[0m         \u001b[1;32mif\u001b[0m \u001b[0mnp\u001b[0m\u001b[1;33m.\u001b[0m\u001b[0msign\u001b[0m\u001b[1;33m(\u001b[0m\u001b[0mmu_j\u001b[0m\u001b[1;33m)\u001b[0m \u001b[1;33m==\u001b[0m \u001b[1;33m+\u001b[0m\u001b[1;36m1\u001b[0m\u001b[1;33m:\u001b[0m\u001b[1;33m\u001b[0m\u001b[0m\n\u001b[1;32m--> 225\u001b[1;33m             \u001b[0marr\u001b[0m \u001b[1;33m=\u001b[0m \u001b[0mnp\u001b[0m\u001b[1;33m.\u001b[0m\u001b[0mvstack\u001b[0m\u001b[1;33m(\u001b[0m\u001b[1;33m[\u001b[0m \u001b[0ma\u001b[0m  \u001b[1;32mfor\u001b[0m \u001b[0ma\u001b[0m \u001b[1;32min\u001b[0m \u001b[0mquad_gen_T\u001b[0m\u001b[1;33m(\u001b[0m \u001b[0mmu_j\u001b[0m\u001b[1;33m,\u001b[0m \u001b[0mmu_e\u001b[0m\u001b[1;33m,\u001b[0m \u001b[0mtau\u001b[0m\u001b[1;33m,\u001b[0m \u001b[0mtau_prime\u001b[0m\u001b[1;33m,\u001b[0m \u001b[0malbedo\u001b[0m\u001b[1;33m,\u001b[0m \u001b[0mdtau\u001b[0m\u001b[1;33m,\u001b[0m \u001b[0mself\u001b[0m\u001b[1;33m.\u001b[0m\u001b[0mlineshape\u001b[0m\u001b[1;33m[\u001b[0m\u001b[0mw\u001b[0m\u001b[1;33m]\u001b[0m\u001b[1;33m,\u001b[0m \u001b[0mself\u001b[0m\u001b[1;33m.\u001b[0m\u001b[0mview_depth\u001b[0m\u001b[1;33m[\u001b[0m\u001b[0mw\u001b[0m\u001b[1;33m]\u001b[0m \u001b[1;33m)\u001b[0m \u001b[1;33m]\u001b[0m\u001b[1;33m)\u001b[0m\u001b[1;33m.\u001b[0m\u001b[0mT\u001b[0m\u001b[1;33m\u001b[0m\u001b[0m\n\u001b[0m\u001b[0;32m    226\u001b[0m             \u001b[1;32mreturn\u001b[0m  \u001b[0mnp\u001b[0m\u001b[1;33m.\u001b[0m\u001b[0msum\u001b[0m\u001b[1;33m(\u001b[0m \u001b[0marr\u001b[0m\u001b[1;33m,\u001b[0m \u001b[0maxis\u001b[0m\u001b[1;33m=\u001b[0m\u001b[1;36m1\u001b[0m \u001b[1;33m)\u001b[0m\u001b[1;33m\u001b[0m\u001b[0m\n\u001b[0;32m    227\u001b[0m         \u001b[1;31m# downwelling\u001b[0m\u001b[1;33m\u001b[0m\u001b[1;33m\u001b[0m\u001b[0m\n",
      "\u001b[1;31mAttributeError\u001b[0m: 'Atmosphere' object has no attribute 'view_depth'"
     ]
    }
   ],
   "source": [
    "w=2\n",
    "Q = np.fromiter( (np.sum(atmosphere.lineshape[w] * atmosphere.Q(k,l,w)) \n",
    "                  for k in atmosphere.transient for l in atmosphere.transient  ), \n",
    "                dtype=float ) \n",
    "n = len(atmosphere.transient)\n",
    "Q = Q.reshape((n,n))\n",
    "\n",
    "\n",
    "R = np.fromiter( (atmosphere.R( l, e, w ) \n",
    "                  for l in atmosphere.transient for e in atmosphere.ergodic  ),\n",
    "                dtype=float )\n",
    "r = len(atmosphere.ergodic)\n",
    "R = R.reshape( ( n, r ) )"
   ]
  },
  {
   "cell_type": "code",
   "execution_count": null,
   "metadata": {
    "collapsed": false
   },
   "outputs": [],
   "source": [
    "I = np.eye( Q.shape[0] )\n",
    "np.isclose(np.dot( Mm, (I-Q) ), I ).all()"
   ]
  },
  {
   "cell_type": "code",
   "execution_count": null,
   "metadata": {
    "collapsed": false
   },
   "outputs": [],
   "source": [
    "plt.figure()\n",
    "plt.title(\"Q\")\n",
    "plt.imshow(Q, cmap=cm.cubehelix_r, norm=LogNorm(vmin=1e-10, vmax=1))\n",
    "plt.colorbar();\n",
    "plt.figure()\n",
    "plt.title(\"R\")\n",
    "plt.imshow(R, cmap=cm.cubehelix_r)\n",
    "plt.colorbar();"
   ]
  },
  {
   "cell_type": "code",
   "execution_count": null,
   "metadata": {
    "collapsed": false
   },
   "outputs": [],
   "source": [
    "n = np.array( [ s[1] for s in atmosphere.transient ] )\n",
    "i = np.array( [ s[0] for s in atmosphere.transient ] )\n",
    "plt.imshow(np.fromiter((z_target - z_source for z_source in atmosphere.z[n]\\\n",
    " for z_target in atmosphere.z[n]), dtype=np.float ).reshape((len(n),len(n))), cmap=cm.RdBu_r)\n",
    "plt.colorbar()"
   ]
  },
  {
   "cell_type": "raw",
   "metadata": {},
   "source": [
    "Up -> Up | Up -> Dn\n",
    "Dn -> Up | Dn -> Dn"
   ]
  },
  {
   "cell_type": "code",
   "execution_count": null,
   "metadata": {
    "collapsed": false
   },
   "outputs": [],
   "source": [
    "x = atmosphere.z*1e-5\n",
    "plt.plot( x, atmosphere.tau[0] )\n",
    "plt.plot( x, atmosphere.dtau[0] )\n",
    "plt.plot( x, atmosphere.albedo[0] )\n",
    "plt.plot( x, atmosphere.oplus )\n",
    "plt.plot( z, S(z*1e5) )\n",
    "plt.axvline(90, color='k', ls='--')\n",
    "plt.grid()\n",
    "plt.ylim(1e-8,1e7)\n",
    "plt.yscale('log')"
   ]
  },
  {
   "cell_type": "code",
   "execution_count": null,
   "metadata": {
    "collapsed": false
   },
   "outputs": [],
   "source": [
    "# plt.plot(atmosphere.z, msis_n[\"O\"], label=\"O\", ls='--', lw=2)\n",
    "# plt.plot(atmosphere.z, msis_n[\"N2\"], label=\"N2\", ls='--', lw=2)\n",
    "# plt.plot(atmosphere.z, msis_n[\"O2\"], label=\"O2\", ls='--', lw=2)\n",
    "# plt.plot(atmosphere.z, atmosphere.oplus, label=\"O+\", lw=2)\n",
    "# edp = auric.retrieve(\"ionos.dat\", features=['[e-]'])\n",
    "# plt.plot(edp[\"ALT\"]*1e5,edp[\"[e-]\"], label=\"e-\", alpha=0.5, lw=2)\n",
    "# plt.plot()\n",
    "# plt.legend(); plt.grid(b=True, which='both')\n",
    "# plt.ylim(1e3,1e6)\n",
    "# plt.yscale('log')"
   ]
  },
  {
   "cell_type": "markdown",
   "metadata": {},
   "source": [
    "# Do the viewing angles work?"
   ]
  },
  {
   "cell_type": "markdown",
   "metadata": {},
   "source": [
    "One way to find out. (The weights are incorrect, so it will probably explode or something.)"
   ]
  },
  {
   "cell_type": "code",
   "execution_count": null,
   "metadata": {
    "collapsed": false
   },
   "outputs": [],
   "source": [
    "X = atmosphere.multiple_scatter_matrix( 2 )"
   ]
  },
  {
   "cell_type": "code",
   "execution_count": null,
   "metadata": {
    "collapsed": false
   },
   "outputs": [],
   "source": [
    "print X.shape\n",
    "\n",
    "pdf_interp = scipy.interpolate.interp1d( x=z[::-1]*1e5, y=pdf[::-1], bounds_error=False, fill_value=0 )\n",
    "\n",
    "PI_0 = np.hstack( [pdf_interp(atmosphere.z) / 2]*2 ) \n",
    "\n",
    "out = np.dot( PI_0, X )\n",
    "plt.plot( viewing_angles * 180 / np.pi, out )\n",
    "plt.yscale('log')"
   ]
  },
  {
   "cell_type": "code",
   "execution_count": null,
   "metadata": {
    "collapsed": false
   },
   "outputs": [],
   "source": [
    "!say done\n",
    "!espeak done"
   ]
  },
  {
   "cell_type": "code",
   "execution_count": null,
   "metadata": {
    "collapsed": false
   },
   "outputs": [],
   "source": [
    "plt.plot(z, pdf)\n",
    "plt.plot(atmosphere.z*1e-5, PI_0[:atmosphere.N_layers])\n",
    "plt.plot(atmosphere.z*1e-5, PI_0[atmosphere.N_layers:])\n",
    "plt.yscale('log')"
   ]
  },
  {
   "cell_type": "code",
   "execution_count": null,
   "metadata": {
    "collapsed": false
   },
   "outputs": [],
   "source": [
    "mu_j = atmosphere.mu[0]\n",
    "mu_e = -np.cos(viewing_angles[0])\n",
    "tau = 1.0001\n",
    "tau_prime = atmosphere.tau[2]\n",
    "albedo = atmosphere.albedo[2]\n"
   ]
  },
  {
   "cell_type": "code",
   "execution_count": null,
   "metadata": {
    "collapsed": false
   },
   "outputs": [],
   "source": []
  },
  {
   "cell_type": "code",
   "execution_count": null,
   "metadata": {
    "collapsed": false
   },
   "outputs": [],
   "source": []
  },
  {
   "cell_type": "markdown",
   "metadata": {},
   "source": [
    "# Sanity Check"
   ]
  },
  {
   "cell_type": "markdown",
   "metadata": {},
   "source": [
    "The sum of each row of Q should be no more than one, since every photon comes from somewhere, but it may be less, because the absorbed photons are not accounted for by any state"
   ]
  },
  {
   "cell_type": "code",
   "execution_count": null,
   "metadata": {
    "collapsed": false
   },
   "outputs": [],
   "source": [
    "plt.plot(np.sum(Q ,axis=0))#+np.sum(R,axis=1) )\n",
    "plt.yscale('log')\n",
    "plt.ylim(1e-4,100)"
   ]
  },
  {
   "cell_type": "code",
   "execution_count": null,
   "metadata": {
    "collapsed": false
   },
   "outputs": [],
   "source": [
    "print np.arange(10).reshape((2,5))\n",
    "print np.fromiter( (a*b for b in (+1, -1) for a in xrange(5) ), dtype=np.int32).reshape((2,5))"
   ]
  },
  {
   "cell_type": "code",
   "execution_count": null,
   "metadata": {
    "collapsed": true
   },
   "outputs": [],
   "source": [
    "kB = 1.3806488e-23 # J / K\n",
    "\n",
    "# speed of light\n",
    "c = 2.99792458e8 # m / s\n",
    "\n",
    "def sdu( m, T ):\n",
    "    \"\"\"Doppler unit for mass `m` and temperature `T`.\n",
    "    The standard deviation for a doppler-broadened line centered at 'nu' is `sdu( m, T ) * nu` \"\"\"\n",
    "    return np.sqrt( kB * T / m / c**2 )\n"
   ]
  },
  {
   "cell_type": "code",
   "execution_count": null,
   "metadata": {
    "collapsed": false
   },
   "outputs": [],
   "source": [
    "sdu( 16 * amu, 700 )"
   ]
  },
  {
   "cell_type": "code",
   "execution_count": null,
   "metadata": {
    "collapsed": false
   },
   "outputs": [],
   "source": [
    "a = np.arange(9).reshape(1,9)\n"
   ]
  },
  {
   "cell_type": "code",
   "execution_count": null,
   "metadata": {
    "collapsed": false
   },
   "outputs": [],
   "source": [
    "atmosphere.Q((0,5),(0,5),1).shape"
   ]
  },
  {
   "cell_type": "code",
   "execution_count": null,
   "metadata": {
    "collapsed": false
   },
   "outputs": [],
   "source": [
    "scipy.special.erf(1e-6)"
   ]
  },
  {
   "cell_type": "code",
   "execution_count": null,
   "metadata": {
    "collapsed": false
   },
   "outputs": [],
   "source": []
  },
  {
   "cell_type": "code",
   "execution_count": null,
   "metadata": {
    "collapsed": false
   },
   "outputs": [],
   "source": [
    "scipy.special.erf( mcrt.freq_param() )"
   ]
  },
  {
   "cell_type": "code",
   "execution_count": null,
   "metadata": {
    "collapsed": false
   },
   "outputs": [],
   "source": [
    "atmosphere.lineshape[0][5,:]"
   ]
  },
  {
   "cell_type": "code",
   "execution_count": null,
   "metadata": {
    "collapsed": true
   },
   "outputs": [],
   "source": []
  },
  {
   "cell_type": "code",
   "execution_count": null,
   "metadata": {
    "collapsed": false
   },
   "outputs": [],
   "source": []
  },
  {
   "cell_type": "code",
   "execution_count": null,
   "metadata": {
    "collapsed": true
   },
   "outputs": [],
   "source": []
  },
  {
   "cell_type": "code",
   "execution_count": null,
   "metadata": {
    "collapsed": false
   },
   "outputs": [],
   "source": [
    "Hbig=60\n",
    "Nbig=1.5e5\n",
    "hbig=330\n",
    "def big_chapman(z):\n",
    "    return (Nbig)*np.exp((1-(z-hbig)/Hbig-np.exp(-(z-hbig)/Hbig))/2)\n",
    "Hlit=55\n",
    "Nlit=7e3\n",
    "hlit=120\n",
    "def little_chapman(z): \n",
    "    return (Nlit)*np.exp((1-(z-hlit)/Hlit-np.exp(-(z-hlit)/Hlit))/2)\n",
    "opd = big_chapman(msis_n['ALT']) + little_chapman(msis_n['ALT'])\n",
    "plt.plot( msis_n['ALT'], opd )"
   ]
  },
  {
   "cell_type": "code",
   "execution_count": null,
   "metadata": {
    "collapsed": false
   },
   "outputs": [],
   "source": [
    "plt.plot(altitudes);plt.yscale('log');plt.grid(which='both')"
   ]
  },
  {
   "cell_type": "code",
   "execution_count": null,
   "metadata": {
    "collapsed": false
   },
   "outputs": [],
   "source": [
    "np.where(altitudes>=80), altitudes[:84]"
   ]
  },
  {
   "cell_type": "code",
   "execution_count": null,
   "metadata": {
    "collapsed": false
   },
   "outputs": [],
   "source": [
    "print len([ i for i in atmosphere.tau[0].T ])"
   ]
  },
  {
   "cell_type": "code",
   "execution_count": null,
   "metadata": {
    "collapsed": false
   },
   "outputs": [],
   "source": []
  },
  {
   "cell_type": "code",
   "execution_count": null,
   "metadata": {
    "collapsed": false
   },
   "outputs": [],
   "source": [
    "atmosphere.tau[1][-1,:].shape"
   ]
  },
  {
   "cell_type": "code",
   "execution_count": null,
   "metadata": {
    "collapsed": false
   },
   "outputs": [],
   "source": [
    "atmosphere.R( (0,10), 1, 1 )"
   ]
  },
  {
   "cell_type": "code",
   "execution_count": null,
   "metadata": {
    "collapsed": false
   },
   "outputs": [],
   "source": [
    "for i in mcrt.quad_gen_T( 1, 1, atmosphere.tau[2][10,:], atmosphere.tau[2][0:10,:],\\\n",
    "                         atmosphere.albedo[2][0:10,:], atmosphere.dtau[2][10,:] ):\n",
    "    print i"
   ]
  },
  {
   "cell_type": "markdown",
   "metadata": {},
   "source": [
    "atmosphere.tau[2].shape"
   ]
  },
  {
   "cell_type": "code",
   "execution_count": null,
   "metadata": {
    "collapsed": false
   },
   "outputs": [],
   "source": [
    "np.cos(atmosphere.viewing_angles)"
   ]
  },
  {
   "cell_type": "code",
   "execution_count": null,
   "metadata": {
    "collapsed": false
   },
   "outputs": [],
   "source": [
    "np.cos(viewing_angles)"
   ]
  },
  {
   "cell_type": "code",
   "execution_count": null,
   "metadata": {
    "collapsed": true
   },
   "outputs": [],
   "source": []
  },
  {
   "cell_type": "code",
   "execution_count": null,
   "metadata": {
    "collapsed": true
   },
   "outputs": [],
   "source": []
  },
  {
   "cell_type": "code",
   "execution_count": null,
   "metadata": {
    "collapsed": true
   },
   "outputs": [],
   "source": []
  },
  {
   "cell_type": "code",
   "execution_count": null,
   "metadata": {
    "collapsed": false
   },
   "outputs": [],
   "source": [
    "Q[:,90], Q[90,:]"
   ]
  },
  {
   "cell_type": "code",
   "execution_count": null,
   "metadata": {
    "collapsed": true
   },
   "outputs": [],
   "source": []
  },
  {
   "cell_type": "code",
   "execution_count": null,
   "metadata": {
    "collapsed": true
   },
   "outputs": [],
   "source": []
  },
  {
   "cell_type": "code",
   "execution_count": null,
   "metadata": {
    "collapsed": true
   },
   "outputs": [],
   "source": [
    "plt.colorbar?"
   ]
  },
  {
   "cell_type": "code",
   "execution_count": null,
   "metadata": {
    "collapsed": true
   },
   "outputs": [],
   "source": []
  },
  {
   "cell_type": "code",
   "execution_count": null,
   "metadata": {
    "collapsed": true
   },
   "outputs": [],
   "source": []
  },
  {
   "cell_type": "code",
   "execution_count": null,
   "metadata": {
    "collapsed": true
   },
   "outputs": [],
   "source": []
  },
  {
   "cell_type": "code",
   "execution_count": null,
   "metadata": {
    "collapsed": true
   },
   "outputs": [],
   "source": []
  },
  {
   "cell_type": "code",
   "execution_count": 37,
   "metadata": {
    "collapsed": true
   },
   "outputs": [],
   "source": [
    "plt.subplot?"
   ]
  },
  {
   "cell_type": "code",
   "execution_count": 24,
   "metadata": {
    "collapsed": false
   },
   "outputs": [
    {
     "data": {
      "text/plain": [
       "array([[ 0,  1,  2,  3],\n",
       "       [ 4,  5,  6,  7],\n",
       "       [ 8,  9, 10, 11],\n",
       "       [12, 13, 14, 15]])"
      ]
     },
     "execution_count": 24,
     "metadata": {},
     "output_type": "execute_result"
    }
   ],
   "source": [
    "a = np.arange(16).reshape(4,4)\n",
    "a"
   ]
  },
  {
   "cell_type": "code",
   "execution_count": 25,
   "metadata": {
    "collapsed": false
   },
   "outputs": [
    {
     "data": {
      "text/plain": [
       "array([[ 6.,  7.],\n",
       "       [ 8.,  9.]])"
      ]
     },
     "execution_count": 25,
     "metadata": {},
     "output_type": "execute_result"
    }
   ],
   "source": [
    "a.mean(axis=0).reshape(2,2)"
   ]
  },
  {
   "cell_type": "code",
   "execution_count": 26,
   "metadata": {
    "collapsed": false
   },
   "outputs": [
    {
     "ename": "IndexError",
     "evalue": "index 4 is out of bounds for axis 1 with size 4",
     "output_type": "error",
     "traceback": [
      "\u001b[1;31m---------------------------------------------------------------------------\u001b[0m",
      "\u001b[1;31mIndexError\u001b[0m                                Traceback (most recent call last)",
      "\u001b[1;32m<ipython-input-26-2daac9090903>\u001b[0m in \u001b[0;36m<module>\u001b[1;34m()\u001b[0m\n\u001b[0;32m      8\u001b[0m         \u001b[0mout\u001b[0m\u001b[1;33m[\u001b[0m\u001b[0mro\u001b[0m\u001b[1;33m,\u001b[0m\u001b[0mco\u001b[0m\u001b[1;33m]\u001b[0m \u001b[1;33m+=\u001b[0m \u001b[0ma\u001b[0m\u001b[1;33m[\u001b[0m\u001b[0mra\u001b[0m\u001b[1;33m,\u001b[0m\u001b[0mca\u001b[0m\u001b[1;33m]\u001b[0m\u001b[1;33m\u001b[0m\u001b[0m\n\u001b[0;32m      9\u001b[0m     \u001b[1;32mreturn\u001b[0m \u001b[0mout\u001b[0m\u001b[1;33m\u001b[0m\u001b[0m\n\u001b[1;32m---> 10\u001b[1;33m \u001b[0msum_down_square\u001b[0m\u001b[1;33m(\u001b[0m\u001b[0ma\u001b[0m\u001b[1;33m)\u001b[0m\u001b[1;33m\u001b[0m\u001b[0m\n\u001b[0m",
      "\u001b[1;32m<ipython-input-26-2daac9090903>\u001b[0m in \u001b[0;36msum_down_square\u001b[1;34m(a)\u001b[0m\n\u001b[0;32m      6\u001b[0m         \u001b[0mra\u001b[0m\u001b[1;33m,\u001b[0m \u001b[0mca\u001b[0m \u001b[1;33m=\u001b[0m \u001b[0mj\u001b[0m\u001b[1;33m//\u001b[0m\u001b[0mN\u001b[0m\u001b[1;33m,\u001b[0m \u001b[0mj\u001b[0m\u001b[1;33m%\u001b[0m\u001b[0mN\u001b[0m\u001b[1;33m\u001b[0m\u001b[0m\n\u001b[0;32m      7\u001b[0m         \u001b[0mro\u001b[0m\u001b[1;33m,\u001b[0m \u001b[0mco\u001b[0m \u001b[1;33m=\u001b[0m \u001b[0mra\u001b[0m\u001b[1;33m//\u001b[0m\u001b[0mn\u001b[0m\u001b[1;33m,\u001b[0m \u001b[0mca\u001b[0m\u001b[1;33m//\u001b[0m\u001b[0mn\u001b[0m\u001b[1;33m\u001b[0m\u001b[0m\n\u001b[1;32m----> 8\u001b[1;33m         \u001b[0mout\u001b[0m\u001b[1;33m[\u001b[0m\u001b[0mro\u001b[0m\u001b[1;33m,\u001b[0m\u001b[0mco\u001b[0m\u001b[1;33m]\u001b[0m \u001b[1;33m+=\u001b[0m \u001b[0ma\u001b[0m\u001b[1;33m[\u001b[0m\u001b[0mra\u001b[0m\u001b[1;33m,\u001b[0m\u001b[0mca\u001b[0m\u001b[1;33m]\u001b[0m\u001b[1;33m\u001b[0m\u001b[0m\n\u001b[0m\u001b[0;32m      9\u001b[0m     \u001b[1;32mreturn\u001b[0m \u001b[0mout\u001b[0m\u001b[1;33m\u001b[0m\u001b[0m\n\u001b[0;32m     10\u001b[0m \u001b[0msum_down_square\u001b[0m\u001b[1;33m(\u001b[0m\u001b[0ma\u001b[0m\u001b[1;33m)\u001b[0m\u001b[1;33m\u001b[0m\u001b[0m\n",
      "\u001b[1;31mIndexError\u001b[0m: index 4 is out of bounds for axis 1 with size 4"
     ]
    }
   ],
   "source": [
    "def sum_down_square(a):\n",
    "    N = a.size\n",
    "    n = int(np.sqrt(N))\n",
    "    out = np.empty((n,n))\n",
    "    for j in xrange(a.size):\n",
    "        ra, ca = j//N, j%N\n",
    "        ro, co = ra//n, ca//n\n",
    "        out[ro,co] += a[ra,ca]\n",
    "    return out\n",
    "sum_down_square(a)"
   ]
  },
  {
   "cell_type": "code",
   "execution_count": null,
   "metadata": {
    "collapsed": false
   },
   "outputs": [],
   "source": []
  },
  {
   "cell_type": "code",
   "execution_count": null,
   "metadata": {
    "collapsed": true
   },
   "outputs": [],
   "source": []
  }
 ],
 "metadata": {
  "kernelspec": {
   "display_name": "Python 2",
   "language": "python",
   "name": "python2"
  },
  "language_info": {
   "codemirror_mode": {
    "name": "ipython",
    "version": 2
   },
   "file_extension": ".py",
   "mimetype": "text/x-python",
   "name": "python",
   "nbconvert_exporter": "python",
   "pygments_lexer": "ipython2",
   "version": "2.7.10"
  }
 },
 "nbformat": 4,
 "nbformat_minor": 0
}
