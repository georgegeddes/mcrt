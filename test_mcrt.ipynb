{
 "metadata": {
  "name": "test_mcrt"
 },
 "nbformat": 3,
 "nbformat_minor": 0,
 "worksheets": [
  {
   "cells": [
    {
     "cell_type": "heading",
     "level": 1,
     "metadata": {},
     "source": [
      "Scattering Matrix"
     ]
    },
    {
     "cell_type": "markdown",
     "metadata": {},
     "source": [
      "First, test if the scattering matrix calculation works without calculatng the viewing matrix. In order to do this, we need to load up some cross section data to initialize `Gas`. Then, we need to load some neutral densities, temperature and an ionosphere to create an `Atmosphere`."
     ]
    },
    {
     "cell_type": "code",
     "collapsed": false,
     "input": [
      "%pylab inline\n",
      "import matplotlib.pyplot as plt\n",
      "import matplotlib.cm as cm\n",
      "import numpy as np\n",
      "import pyauric, mcrt"
     ],
     "language": "python",
     "metadata": {},
     "outputs": [
      {
       "output_type": "stream",
       "stream": "stdout",
       "text": [
        "\n",
        "Welcome to pylab, a matplotlib-based Python environment [backend: module://IPython.kernel.zmq.pylab.backend_inline].\n",
        "For more information, type 'help(pylab)'.\n"
       ]
      }
     ],
     "prompt_number": 1
    },
    {
     "cell_type": "code",
     "collapsed": false,
     "input": [
      "!grep -A 16 \"#ifdef.*VICKERS\" /Users/georgegeddes/Documents/RAIDS/jsv_rt_cython/RT/cross_sec.h"
     ],
     "language": "python",
     "metadata": {},
     "outputs": [
      {
       "output_type": "stream",
       "stream": "stdout",
       "text": [
        "#ifdef  VICKERS\r\n",
        "#define SIGAO__832  ( 3.89  Mbarn)\r\n",
        "#define SIGAO2_832  (33.80  Mbarn)\r\n",
        "#define SIGAN2_832  ( 0.049 Mbarn)\r\n",
        "#define FOSC832       0.0459\r\n",
        "\r\n",
        "#define SIGAO__833  ( 3.89  Mbarn)\r\n",
        "#define SIGAO2_833  (14.00  Mbarn)\r\n",
        "#define SIGAN2_833  ( 0.29  Mbarn)\r\n",
        "#define FOSC833       0.0916\r\n",
        "\r\n",
        "#define SIGAO__834  ( 3.90  Mbarn)\r\n",
        "#define SIGAO2_834  (10.40  Mbarn)\r\n",
        "#define SIGAN2_834  (10.10  Mbarn)\r\n",
        "#define FOSC834       0.1371\r\n",
        "\r\n",
        "static char *credits = \"Vickers/Link\";\r\n"
       ]
      }
     ],
     "prompt_number": 2
    },
    {
     "cell_type": "code",
     "collapsed": false,
     "input": [
      "csO  = [ 3.89e-18, 3.89e-18, 3.90e-18 ]\n",
      "csO2 = [ 33.80e-18, 14.00e-18, 10.40e-18 ]\n",
      "csN2 = [ 0.049e-18, 0.29e-18, 10.10e-18 ]\n",
      "for name, cs in [ (\"O\", csO ), (\"N2\", csN2 ), (\"O2\", csO2 ) ]:\n",
      "    mcrt.Gas( name, 'absorption', [832, 833, 834], cs )"
     ],
     "language": "python",
     "metadata": {},
     "outputs": [],
     "prompt_number": 23
    },
    {
     "cell_type": "markdown",
     "metadata": {},
     "source": [
      "The absorption cross sections are above, but the scattering cross sections are temperature-dependent."
     ]
    },
    {
     "cell_type": "code",
     "collapsed": false,
     "input": [
      "!grep -A 1 \"sig0_834.*=\" /Users/georgegeddes/Documents/RAIDS/jsv_rt_cython/RT/gsrp.c\n",
      "!grep \"#define.*LAM83[234]\" /Users/georgegeddes/Documents/RAIDS/jsv_rt_cython/RT/cross_sec.h"
     ],
     "language": "python",
     "metadata": {},
     "outputs": [
      {
       "output_type": "stream",
       "stream": "stdout",
       "text": [
        "sig0_834  = LAM834 * sqrt(16.*_AMU_/2.0/Pi/_kb_/TREF) *\r\n",
        "            (Pi*_e_*_e_/_Me_/_c_)*FOSC834;\r\n"
       ]
      },
      {
       "output_type": "stream",
       "stream": "stdout",
       "text": [
        "#define LAM834 (834.466e-8 cm)\r\n",
        "#define LAM833 (833.329e-8 cm)\r\n",
        "#define LAM832 (832.757e-8 cm)\r\n"
       ]
      }
     ],
     "prompt_number": 27
    },
    {
     "cell_type": "code",
     "collapsed": false,
     "input": [
      "# fake scattering cross sections\n",
      "wavelengths = [ 832.757e-8, 833.329e-8, 834.466e-8 ]\n",
      "mO16 = 1.489917e10 # eV / c^2\n",
      "#e^2 = hbar c alpha\n",
      "hbarc = 1.97327e-5 # eV cm\n",
      "alpha = 1.0/127.0\n",
      "me = 5.109989e5    # eV / c^2\n",
      "c = 2.998e10       # cm/s\n",
      "kb = 0.086173      # eV / K\n",
      "T = 1000           # K\n",
      "\n",
      "sig0_over_f = lambda x : x * np.sqrt( mO16 * hbarc * alpha * c * me / ( 2 * kb * T ) )\n",
      "\n",
      "fosc = [ 0.0459, 0.0916, 0.1371 ]\n",
      "\n",
      "sigma_scatter = [ sig0(w)*fosc[i] for i, w in enumerate(wavelengths) ]\n",
      "\n",
      "mcrt.Gas( \"O+\", 'scattering', [832, 833, 834], sigma_scatter )\n",
      "\n",
      "print [ (name, gas.sigma[0](900)) for (name, gas) in mcrt.Gas.species.iteritems() ]"
     ],
     "language": "python",
     "metadata": {},
     "outputs": [
      {
       "output_type": "stream",
       "stream": "stdout",
       "text": [
        "[('N2', 1.01e-17), ('O+', 3990.1156690778653), ('O2', 1.04e-17), ('O', 3.9e-18)]\n"
       ]
      }
     ],
     "prompt_number": 30
    },
    {
     "cell_type": "code",
     "collapsed": false,
     "input": [
      "auric = pyauric.AURICManager('./inputs')\n",
      "\n",
      "n_species = [ \"[O]\", \"[O2]\", \"[N2]\" ]\n",
      "\n",
      "neutrals = auric.retrieve(\"atmos.dat\", n_species + ['Tn (K)'])\n",
      "temperatures = neutrals['Tn (K)']\n",
      "absorbers = { k[1:-1]:v for (k,v) in neutrals.iteritems() if '[' in k }\n",
      "altitudes = neutrals[\"ALT\"]\n",
      "absorbers.keys()"
     ],
     "language": "python",
     "metadata": {},
     "outputs": [
      {
       "output_type": "pyout",
       "prompt_number": 31,
       "text": [
        "['N2', 'O2', 'O']"
       ]
      }
     ],
     "prompt_number": 31
    },
    {
     "cell_type": "code",
     "collapsed": false,
     "input": [
      "oplus = auric.retrieve(\"ionos.dat\", ['[e-]'])\n",
      "oplus.keys()"
     ],
     "language": "python",
     "metadata": {},
     "outputs": [
      {
       "output_type": "pyout",
       "prompt_number": 32,
       "text": [
        "['ALT', 'ZA', '[e-]']"
       ]
      }
     ],
     "prompt_number": 32
    },
    {
     "cell_type": "code",
     "collapsed": false,
     "input": [
      "# two streams:\n",
      "angles = [np.sqrt(1/3), -np.sqrt(1/3)]"
     ],
     "language": "python",
     "metadata": {},
     "outputs": [],
     "prompt_number": 33
    },
    {
     "cell_type": "code",
     "collapsed": false,
     "input": [
      "atmosphere = mcrt.Atmosphere( altitudes, angles, temperatures, absorbers, oplus['[e-]'], range(180) ) "
     ],
     "language": "python",
     "metadata": {},
     "outputs": [],
     "prompt_number": 34
    },
    {
     "cell_type": "code",
     "collapsed": false,
     "input": [
      "Mm = atmosphere.multiple_scatter_matrix(0,viewing=False)"
     ],
     "language": "python",
     "metadata": {},
     "outputs": [],
     "prompt_number": 35
    },
    {
     "cell_type": "code",
     "collapsed": false,
     "input": [
      "plt.imshow(Mm, cmap=cm.gray_r)\n",
      "plt.colorbar();"
     ],
     "language": "python",
     "metadata": {},
     "outputs": [
      {
       "output_type": "display_data",
       "png": "[encoded data removed]",
       "text": [
        "<matplotlib.figure.Figure at 0x10b880110>"
       ]
      }
     ],
     "prompt_number": 36
    },
    {
     "cell_type": "code",
     "collapsed": false,
     "input": [
      "Mm.shape"
     ],
     "language": "python",
     "metadata": {},
     "outputs": [
      {
       "output_type": "pyout",
       "prompt_number": 15,
       "text": [
        "(198, 198)"
       ]
      }
     ],
     "prompt_number": 15
    },
    {
     "cell_type": "code",
     "collapsed": false,
     "input": [],
     "language": "python",
     "metadata": {},
     "outputs": []
    }
   ],
   "metadata": {}
  }
 ]
}